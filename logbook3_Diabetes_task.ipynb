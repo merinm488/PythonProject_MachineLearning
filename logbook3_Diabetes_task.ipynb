{
 "cells": [
  {
   "cell_type": "markdown",
   "id": "246591a1",
   "metadata": {},
   "source": [
    "### Loading Dataset"
   ]
  },
  {
   "cell_type": "code",
   "execution_count": 1,
   "id": "6aa01ed1",
   "metadata": {},
   "outputs": [],
   "source": [
    "import pandas as pd\n",
    "import numpy as np\n",
    "import matplotlib.pyplot as plt\n",
    "import seaborn as sns\n",
    "\n",
    "%matplotlib inline\n",
    "df = pd.read_csv(\"diabetes-2.csv\")"
   ]
  },
  {
   "cell_type": "code",
   "execution_count": 2,
   "id": "c71c79ae",
   "metadata": {
    "scrolled": true
   },
   "outputs": [
    {
     "data": {
      "text/html": [
       "<div>\n",
       "<style scoped>\n",
       "    .dataframe tbody tr th:only-of-type {\n",
       "        vertical-align: middle;\n",
       "    }\n",
       "\n",
       "    .dataframe tbody tr th {\n",
       "        vertical-align: top;\n",
       "    }\n",
       "\n",
       "    .dataframe thead th {\n",
       "        text-align: right;\n",
       "    }\n",
       "</style>\n",
       "<table border=\"1\" class=\"dataframe\">\n",
       "  <thead>\n",
       "    <tr style=\"text-align: right;\">\n",
       "      <th></th>\n",
       "      <th>Pregnancies</th>\n",
       "      <th>Glucose</th>\n",
       "      <th>BloodPressure</th>\n",
       "      <th>SkinThickness</th>\n",
       "      <th>Insulin</th>\n",
       "      <th>BMI</th>\n",
       "      <th>DiabetesPedigreeFunction</th>\n",
       "      <th>Age</th>\n",
       "      <th>Outcome</th>\n",
       "    </tr>\n",
       "  </thead>\n",
       "  <tbody>\n",
       "    <tr>\n",
       "      <th>0</th>\n",
       "      <td>6</td>\n",
       "      <td>148</td>\n",
       "      <td>72</td>\n",
       "      <td>35</td>\n",
       "      <td>0</td>\n",
       "      <td>33.6</td>\n",
       "      <td>0.627</td>\n",
       "      <td>50</td>\n",
       "      <td>1</td>\n",
       "    </tr>\n",
       "    <tr>\n",
       "      <th>1</th>\n",
       "      <td>1</td>\n",
       "      <td>85</td>\n",
       "      <td>66</td>\n",
       "      <td>29</td>\n",
       "      <td>0</td>\n",
       "      <td>26.6</td>\n",
       "      <td>0.351</td>\n",
       "      <td>31</td>\n",
       "      <td>0</td>\n",
       "    </tr>\n",
       "    <tr>\n",
       "      <th>2</th>\n",
       "      <td>8</td>\n",
       "      <td>183</td>\n",
       "      <td>64</td>\n",
       "      <td>0</td>\n",
       "      <td>0</td>\n",
       "      <td>23.3</td>\n",
       "      <td>0.672</td>\n",
       "      <td>32</td>\n",
       "      <td>1</td>\n",
       "    </tr>\n",
       "    <tr>\n",
       "      <th>3</th>\n",
       "      <td>1</td>\n",
       "      <td>89</td>\n",
       "      <td>66</td>\n",
       "      <td>23</td>\n",
       "      <td>94</td>\n",
       "      <td>28.1</td>\n",
       "      <td>0.167</td>\n",
       "      <td>21</td>\n",
       "      <td>0</td>\n",
       "    </tr>\n",
       "    <tr>\n",
       "      <th>4</th>\n",
       "      <td>0</td>\n",
       "      <td>137</td>\n",
       "      <td>40</td>\n",
       "      <td>35</td>\n",
       "      <td>168</td>\n",
       "      <td>43.1</td>\n",
       "      <td>2.288</td>\n",
       "      <td>33</td>\n",
       "      <td>1</td>\n",
       "    </tr>\n",
       "  </tbody>\n",
       "</table>\n",
       "</div>"
      ],
      "text/plain": [
       "   Pregnancies  Glucose  BloodPressure  SkinThickness  Insulin   BMI  \\\n",
       "0            6      148             72             35        0  33.6   \n",
       "1            1       85             66             29        0  26.6   \n",
       "2            8      183             64              0        0  23.3   \n",
       "3            1       89             66             23       94  28.1   \n",
       "4            0      137             40             35      168  43.1   \n",
       "\n",
       "   DiabetesPedigreeFunction  Age  Outcome  \n",
       "0                     0.627   50        1  \n",
       "1                     0.351   31        0  \n",
       "2                     0.672   32        1  \n",
       "3                     0.167   21        0  \n",
       "4                     2.288   33        1  "
      ]
     },
     "execution_count": 2,
     "metadata": {},
     "output_type": "execute_result"
    }
   ],
   "source": [
    "df.head()"
   ]
  },
  {
   "cell_type": "code",
   "execution_count": 3,
   "id": "0061d915",
   "metadata": {},
   "outputs": [
    {
     "data": {
      "text/plain": [
       "(768, 9)"
      ]
     },
     "execution_count": 3,
     "metadata": {},
     "output_type": "execute_result"
    }
   ],
   "source": [
    "df.shape"
   ]
  },
  {
   "cell_type": "code",
   "execution_count": 4,
   "id": "409b83fe",
   "metadata": {},
   "outputs": [
    {
     "data": {
      "text/plain": [
       "False"
      ]
     },
     "execution_count": 4,
     "metadata": {},
     "output_type": "execute_result"
    }
   ],
   "source": [
    "### Checking for missing values\n",
    "df.isnull().values.any()"
   ]
  },
  {
   "cell_type": "markdown",
   "id": "aa5e9fb8",
   "metadata": {},
   "source": [
    "##### Meta Data"
   ]
  },
  {
   "cell_type": "code",
   "execution_count": 5,
   "id": "1289f56d",
   "metadata": {},
   "outputs": [
    {
     "data": {
      "text/html": [
       "<div>\n",
       "<style scoped>\n",
       "    .dataframe tbody tr th:only-of-type {\n",
       "        vertical-align: middle;\n",
       "    }\n",
       "\n",
       "    .dataframe tbody tr th {\n",
       "        vertical-align: top;\n",
       "    }\n",
       "\n",
       "    .dataframe thead th {\n",
       "        text-align: right;\n",
       "    }\n",
       "</style>\n",
       "<table border=\"1\" class=\"dataframe\">\n",
       "  <thead>\n",
       "    <tr style=\"text-align: right;\">\n",
       "      <th></th>\n",
       "      <th>Pregnancies</th>\n",
       "      <th>Glucose</th>\n",
       "      <th>BloodPressure</th>\n",
       "      <th>SkinThickness</th>\n",
       "      <th>Insulin</th>\n",
       "      <th>BMI</th>\n",
       "      <th>DiabetesPedigreeFunction</th>\n",
       "      <th>Age</th>\n",
       "      <th>Outcome</th>\n",
       "    </tr>\n",
       "  </thead>\n",
       "  <tbody>\n",
       "    <tr>\n",
       "      <th>count</th>\n",
       "      <td>768.000000</td>\n",
       "      <td>768.000000</td>\n",
       "      <td>768.000000</td>\n",
       "      <td>768.000000</td>\n",
       "      <td>768.000000</td>\n",
       "      <td>768.000000</td>\n",
       "      <td>768.000000</td>\n",
       "      <td>768.000000</td>\n",
       "      <td>768.000000</td>\n",
       "    </tr>\n",
       "    <tr>\n",
       "      <th>mean</th>\n",
       "      <td>3.845052</td>\n",
       "      <td>120.894531</td>\n",
       "      <td>69.105469</td>\n",
       "      <td>20.536458</td>\n",
       "      <td>79.799479</td>\n",
       "      <td>31.992578</td>\n",
       "      <td>0.471876</td>\n",
       "      <td>33.240885</td>\n",
       "      <td>0.348958</td>\n",
       "    </tr>\n",
       "    <tr>\n",
       "      <th>std</th>\n",
       "      <td>3.369578</td>\n",
       "      <td>31.972618</td>\n",
       "      <td>19.355807</td>\n",
       "      <td>15.952218</td>\n",
       "      <td>115.244002</td>\n",
       "      <td>7.884160</td>\n",
       "      <td>0.331329</td>\n",
       "      <td>11.760232</td>\n",
       "      <td>0.476951</td>\n",
       "    </tr>\n",
       "    <tr>\n",
       "      <th>min</th>\n",
       "      <td>0.000000</td>\n",
       "      <td>0.000000</td>\n",
       "      <td>0.000000</td>\n",
       "      <td>0.000000</td>\n",
       "      <td>0.000000</td>\n",
       "      <td>0.000000</td>\n",
       "      <td>0.078000</td>\n",
       "      <td>21.000000</td>\n",
       "      <td>0.000000</td>\n",
       "    </tr>\n",
       "    <tr>\n",
       "      <th>25%</th>\n",
       "      <td>1.000000</td>\n",
       "      <td>99.000000</td>\n",
       "      <td>62.000000</td>\n",
       "      <td>0.000000</td>\n",
       "      <td>0.000000</td>\n",
       "      <td>27.300000</td>\n",
       "      <td>0.243750</td>\n",
       "      <td>24.000000</td>\n",
       "      <td>0.000000</td>\n",
       "    </tr>\n",
       "    <tr>\n",
       "      <th>50%</th>\n",
       "      <td>3.000000</td>\n",
       "      <td>117.000000</td>\n",
       "      <td>72.000000</td>\n",
       "      <td>23.000000</td>\n",
       "      <td>30.500000</td>\n",
       "      <td>32.000000</td>\n",
       "      <td>0.372500</td>\n",
       "      <td>29.000000</td>\n",
       "      <td>0.000000</td>\n",
       "    </tr>\n",
       "    <tr>\n",
       "      <th>75%</th>\n",
       "      <td>6.000000</td>\n",
       "      <td>140.250000</td>\n",
       "      <td>80.000000</td>\n",
       "      <td>32.000000</td>\n",
       "      <td>127.250000</td>\n",
       "      <td>36.600000</td>\n",
       "      <td>0.626250</td>\n",
       "      <td>41.000000</td>\n",
       "      <td>1.000000</td>\n",
       "    </tr>\n",
       "    <tr>\n",
       "      <th>max</th>\n",
       "      <td>17.000000</td>\n",
       "      <td>199.000000</td>\n",
       "      <td>122.000000</td>\n",
       "      <td>99.000000</td>\n",
       "      <td>846.000000</td>\n",
       "      <td>67.100000</td>\n",
       "      <td>2.420000</td>\n",
       "      <td>81.000000</td>\n",
       "      <td>1.000000</td>\n",
       "    </tr>\n",
       "  </tbody>\n",
       "</table>\n",
       "</div>"
      ],
      "text/plain": [
       "       Pregnancies     Glucose  BloodPressure  SkinThickness     Insulin  \\\n",
       "count   768.000000  768.000000     768.000000     768.000000  768.000000   \n",
       "mean      3.845052  120.894531      69.105469      20.536458   79.799479   \n",
       "std       3.369578   31.972618      19.355807      15.952218  115.244002   \n",
       "min       0.000000    0.000000       0.000000       0.000000    0.000000   \n",
       "25%       1.000000   99.000000      62.000000       0.000000    0.000000   \n",
       "50%       3.000000  117.000000      72.000000      23.000000   30.500000   \n",
       "75%       6.000000  140.250000      80.000000      32.000000  127.250000   \n",
       "max      17.000000  199.000000     122.000000      99.000000  846.000000   \n",
       "\n",
       "              BMI  DiabetesPedigreeFunction         Age     Outcome  \n",
       "count  768.000000                768.000000  768.000000  768.000000  \n",
       "mean    31.992578                  0.471876   33.240885    0.348958  \n",
       "std      7.884160                  0.331329   11.760232    0.476951  \n",
       "min      0.000000                  0.078000   21.000000    0.000000  \n",
       "25%     27.300000                  0.243750   24.000000    0.000000  \n",
       "50%     32.000000                  0.372500   29.000000    0.000000  \n",
       "75%     36.600000                  0.626250   41.000000    1.000000  \n",
       "max     67.100000                  2.420000   81.000000    1.000000  "
      ]
     },
     "execution_count": 5,
     "metadata": {},
     "output_type": "execute_result"
    }
   ],
   "source": [
    "df.describe()"
   ]
  },
  {
   "cell_type": "markdown",
   "id": "e8d4ea50",
   "metadata": {},
   "source": [
    "Since some columns have a minimum value of 0 which is not logica, those are essentially missing values in our dataset."
   ]
  },
  {
   "cell_type": "code",
   "execution_count": 6,
   "id": "e840adb5",
   "metadata": {},
   "outputs": [],
   "source": [
    "#listing columns with missing values(0)\n",
    "missing_col = ['Glucose', 'BloodPressure', 'SkinThickness', 'Insulin', 'BMI']"
   ]
  },
  {
   "cell_type": "code",
   "execution_count": 7,
   "id": "a1aa89ed",
   "metadata": {},
   "outputs": [],
   "source": [
    "def show_zero(col_name):\n",
    "    print('%s: %d'%(col_name, df[df[col_name]==0].shape[0])) #Identifying the number of '0' values"
   ]
  },
  {
   "cell_type": "code",
   "execution_count": 8,
   "id": "89f52c91",
   "metadata": {},
   "outputs": [
    {
     "name": "stdout",
     "output_type": "stream",
     "text": [
      "Glucose: 5\n",
      "BloodPressure: 35\n",
      "SkinThickness: 227\n",
      "Insulin: 374\n",
      "BMI: 11\n"
     ]
    }
   ],
   "source": [
    "#loopig through each name in missing_col and calling the function\n",
    "for col_name in missing_col:\n",
    "    show_zero(col_name)"
   ]
  },
  {
   "cell_type": "code",
   "execution_count": 9,
   "id": "493adc05",
   "metadata": {},
   "outputs": [],
   "source": [
    "# Replacing these zero values with NAN\n",
    "df[missing_col] = df[missing_col].replace(0, np.NaN)"
   ]
  },
  {
   "cell_type": "markdown",
   "id": "ab44a187",
   "metadata": {},
   "source": [
    "Replacing the missing values with mean values"
   ]
  },
  {
   "cell_type": "code",
   "execution_count": 10,
   "id": "683994bf",
   "metadata": {},
   "outputs": [],
   "source": [
    "for i in missing_col:\n",
    "    df[i].fillna(value=np.mean(df[i]), inplace=True)"
   ]
  },
  {
   "cell_type": "code",
   "execution_count": 11,
   "id": "ac42942b",
   "metadata": {},
   "outputs": [
    {
     "data": {
      "text/plain": [
       "Pregnancies                 0\n",
       "Glucose                     0\n",
       "BloodPressure               0\n",
       "SkinThickness               0\n",
       "Insulin                     0\n",
       "BMI                         0\n",
       "DiabetesPedigreeFunction    0\n",
       "Age                         0\n",
       "Outcome                     0\n",
       "dtype: int64"
      ]
     },
     "execution_count": 11,
     "metadata": {},
     "output_type": "execute_result"
    }
   ],
   "source": [
    "df.isna().sum()"
   ]
  },
  {
   "cell_type": "markdown",
   "id": "71ffc91a",
   "metadata": {},
   "source": [
    "#### Checking if data has outliers using box plot"
   ]
  },
  {
   "cell_type": "code",
   "execution_count": 12,
   "id": "7b922386",
   "metadata": {},
   "outputs": [
    {
     "data": {
      "image/png": "[encoded data removed]",
      "text/plain": [
       "<Figure size 1224x72 with 1 Axes>"
      ]
     },
     "metadata": {
      "needs_background": "light"
     },
     "output_type": "display_data"
    },
    {
     "data": {
      "image/png": "[encoded data removed]",
      "text/plain": [
       "<Figure size 1224x72 with 1 Axes>"
      ]
     },
     "metadata": {
      "needs_background": "light"
     },
     "output_type": "display_data"
    },
    {
     "data": {
      "image/png": "[encoded data removed]",
      "text/plain": [
       "<Figure size 1224x72 with 1 Axes>"
      ]
     },
     "metadata": {
      "needs_background": "light"
     },
     "output_type": "display_data"
    },
    {
     "data": {
      "image/png": "[encoded data removed]",
      "text/plain": [
       "<Figure size 1224x72 with 1 Axes>"
      ]
     },
     "metadata": {
      "needs_background": "light"
     },
     "output_type": "display_data"
    },
    {
     "data": {
      "image/png": "[encoded data removed]",
      "text/plain": [
       "<Figure size 1224x72 with 1 Axes>"
      ]
     },
     "metadata": {
      "needs_background": "light"
     },
     "output_type": "display_data"
    },
    {
     "data": {
      "image/png": "[encoded data removed]",
      "text/plain": [
       "<Figure size 1224x72 with 1 Axes>"
      ]
     },
     "metadata": {
      "needs_background": "light"
     },
     "output_type": "display_data"
    },
    {
     "data": {
      "image/png": "[encoded data removed]",
      "text/plain": [
       "<Figure size 1224x72 with 1 Axes>"
      ]
     },
     "metadata": {
      "needs_background": "light"
     },
     "output_type": "display_data"
    },
    {
     "data": {
      "image/png": "[encoded data removed]",
      "text/plain": [
       "<Figure size 1224x72 with 1 Axes>"
      ]
     },
     "metadata": {
      "needs_background": "light"
     },
     "output_type": "display_data"
    },
    {
     "data": {
      "image/png": "[encoded data removed]",
      "text/plain": [
       "<Figure size 1224x72 with 1 Axes>"
      ]
     },
     "metadata": {
      "needs_background": "light"
     },
     "output_type": "display_data"
    }
   ],
   "source": [
    "for column in df:\n",
    "    plt.figure(figsize=(17,1))\n",
    "    sns.boxplot(data=df, x=column, color=\"green\")"
   ]
  },
  {
   "cell_type": "markdown",
   "id": "efa7de7e",
   "metadata": {},
   "source": [
    "#### removing outliers"
   ]
  },
  {
   "cell_type": "code",
   "execution_count": 13,
   "id": "757f6fb6",
   "metadata": {},
   "outputs": [
    {
     "data": {
      "text/plain": [
       "(515, 9)"
      ]
     },
     "execution_count": 13,
     "metadata": {},
     "output_type": "execute_result"
    }
   ],
   "source": [
    "Q1 = df.quantile(0.25)\n",
    "Q3 = df.quantile(0.75)\n",
    "IQR = Q3 - Q1\n",
    "\n",
    "df_clean = df[~((df < (Q1 - 1.5 * IQR))|(df > (Q3 + 1.5 * IQR))).any(axis=1)]\n",
    "df_clean.shape"
   ]
  },
  {
   "cell_type": "markdown",
   "id": "151e9359",
   "metadata": {},
   "source": [
    "#### Now let's look at some characteristics of our data"
   ]
  },
  {
   "cell_type": "code",
   "execution_count": 14,
   "id": "2a59d581",
   "metadata": {},
   "outputs": [
    {
     "data": {
      "text/plain": [
       "0    336\n",
       "1    179\n",
       "Name: Outcome, dtype: int64"
      ]
     },
     "execution_count": 14,
     "metadata": {},
     "output_type": "execute_result"
    }
   ],
   "source": [
    "#number of patients in each outcome\n",
    "outcome= df_clean['Outcome'].value_counts()\n",
    "outcome"
   ]
  },
  {
   "cell_type": "code",
   "execution_count": 15,
   "id": "769f46b3",
   "metadata": {
    "scrolled": false
   },
   "outputs": [
    {
     "data": {
      "text/plain": [
       "<AxesSubplot:xlabel='Patient Outcome', ylabel='Frequency'>"
      ]
     },
     "execution_count": 15,
     "metadata": {},
     "output_type": "execute_result"
    },
    {
     "data": {
      "image/png": "[encoded data removed]",
      "text/plain": [
       "<Figure size 432x288 with 1 Axes>"
      ]
     },
     "metadata": {
      "needs_background": "light"
     },
     "output_type": "display_data"
    }
   ],
   "source": [
    "# visaualising the above outcome\n",
    "outcome.plot.bar(color=\"green\", xlabel= 'Patient Outcome', ylabel='Frequency')"
   ]
  },
  {
   "cell_type": "markdown",
   "id": "8b95f54c",
   "metadata": {},
   "source": [
    "#### Correlation Matrix"
   ]
  },
  {
   "cell_type": "code",
   "execution_count": 16,
   "id": "7f769a29",
   "metadata": {},
   "outputs": [
    {
     "data": {
      "text/html": [
       "<div>\n",
       "<style scoped>\n",
       "    .dataframe tbody tr th:only-of-type {\n",
       "        vertical-align: middle;\n",
       "    }\n",
       "\n",
       "    .dataframe tbody tr th {\n",
       "        vertical-align: top;\n",
       "    }\n",
       "\n",
       "    .dataframe thead th {\n",
       "        text-align: right;\n",
       "    }\n",
       "</style>\n",
       "<table border=\"1\" class=\"dataframe\">\n",
       "  <thead>\n",
       "    <tr style=\"text-align: right;\">\n",
       "      <th></th>\n",
       "      <th>Pregnancies</th>\n",
       "      <th>Glucose</th>\n",
       "      <th>BloodPressure</th>\n",
       "      <th>SkinThickness</th>\n",
       "      <th>Insulin</th>\n",
       "      <th>BMI</th>\n",
       "      <th>DiabetesPedigreeFunction</th>\n",
       "      <th>Age</th>\n",
       "      <th>Outcome</th>\n",
       "    </tr>\n",
       "  </thead>\n",
       "  <tbody>\n",
       "    <tr>\n",
       "      <th>Pregnancies</th>\n",
       "      <td>1.000000</td>\n",
       "      <td>0.110622</td>\n",
       "      <td>0.201698</td>\n",
       "      <td>0.129082</td>\n",
       "      <td>0.119618</td>\n",
       "      <td>0.028829</td>\n",
       "      <td>0.014969</td>\n",
       "      <td>0.513640</td>\n",
       "      <td>0.187868</td>\n",
       "    </tr>\n",
       "    <tr>\n",
       "      <th>Glucose</th>\n",
       "      <td>0.110622</td>\n",
       "      <td>1.000000</td>\n",
       "      <td>0.214924</td>\n",
       "      <td>0.069066</td>\n",
       "      <td>0.180899</td>\n",
       "      <td>0.152330</td>\n",
       "      <td>0.068436</td>\n",
       "      <td>0.266073</td>\n",
       "      <td>0.478218</td>\n",
       "    </tr>\n",
       "    <tr>\n",
       "      <th>BloodPressure</th>\n",
       "      <td>0.201698</td>\n",
       "      <td>0.214924</td>\n",
       "      <td>1.000000</td>\n",
       "      <td>0.128661</td>\n",
       "      <td>0.107820</td>\n",
       "      <td>0.229477</td>\n",
       "      <td>0.025405</td>\n",
       "      <td>0.352452</td>\n",
       "      <td>0.162221</td>\n",
       "    </tr>\n",
       "    <tr>\n",
       "      <th>SkinThickness</th>\n",
       "      <td>0.129082</td>\n",
       "      <td>0.069066</td>\n",
       "      <td>0.128661</td>\n",
       "      <td>1.000000</td>\n",
       "      <td>0.125630</td>\n",
       "      <td>0.415246</td>\n",
       "      <td>0.051262</td>\n",
       "      <td>0.074935</td>\n",
       "      <td>0.151155</td>\n",
       "    </tr>\n",
       "    <tr>\n",
       "      <th>Insulin</th>\n",
       "      <td>0.119618</td>\n",
       "      <td>0.180899</td>\n",
       "      <td>0.107820</td>\n",
       "      <td>0.125630</td>\n",
       "      <td>1.000000</td>\n",
       "      <td>0.029492</td>\n",
       "      <td>-0.032920</td>\n",
       "      <td>0.193573</td>\n",
       "      <td>0.140253</td>\n",
       "    </tr>\n",
       "    <tr>\n",
       "      <th>BMI</th>\n",
       "      <td>0.028829</td>\n",
       "      <td>0.152330</td>\n",
       "      <td>0.229477</td>\n",
       "      <td>0.415246</td>\n",
       "      <td>0.029492</td>\n",
       "      <td>1.000000</td>\n",
       "      <td>0.138813</td>\n",
       "      <td>0.013666</td>\n",
       "      <td>0.267172</td>\n",
       "    </tr>\n",
       "    <tr>\n",
       "      <th>DiabetesPedigreeFunction</th>\n",
       "      <td>0.014969</td>\n",
       "      <td>0.068436</td>\n",
       "      <td>0.025405</td>\n",
       "      <td>0.051262</td>\n",
       "      <td>-0.032920</td>\n",
       "      <td>0.138813</td>\n",
       "      <td>1.000000</td>\n",
       "      <td>0.021202</td>\n",
       "      <td>0.182401</td>\n",
       "    </tr>\n",
       "    <tr>\n",
       "      <th>Age</th>\n",
       "      <td>0.513640</td>\n",
       "      <td>0.266073</td>\n",
       "      <td>0.352452</td>\n",
       "      <td>0.074935</td>\n",
       "      <td>0.193573</td>\n",
       "      <td>0.013666</td>\n",
       "      <td>0.021202</td>\n",
       "      <td>1.000000</td>\n",
       "      <td>0.228587</td>\n",
       "    </tr>\n",
       "    <tr>\n",
       "      <th>Outcome</th>\n",
       "      <td>0.187868</td>\n",
       "      <td>0.478218</td>\n",
       "      <td>0.162221</td>\n",
       "      <td>0.151155</td>\n",
       "      <td>0.140253</td>\n",
       "      <td>0.267172</td>\n",
       "      <td>0.182401</td>\n",
       "      <td>0.228587</td>\n",
       "      <td>1.000000</td>\n",
       "    </tr>\n",
       "  </tbody>\n",
       "</table>\n",
       "</div>"
      ],
      "text/plain": [
       "                          Pregnancies   Glucose  BloodPressure  SkinThickness  \\\n",
       "Pregnancies                  1.000000  0.110622       0.201698       0.129082   \n",
       "Glucose                      0.110622  1.000000       0.214924       0.069066   \n",
       "BloodPressure                0.201698  0.214924       1.000000       0.128661   \n",
       "SkinThickness                0.129082  0.069066       0.128661       1.000000   \n",
       "Insulin                      0.119618  0.180899       0.107820       0.125630   \n",
       "BMI                          0.028829  0.152330       0.229477       0.415246   \n",
       "DiabetesPedigreeFunction     0.014969  0.068436       0.025405       0.051262   \n",
       "Age                          0.513640  0.266073       0.352452       0.074935   \n",
       "Outcome                      0.187868  0.478218       0.162221       0.151155   \n",
       "\n",
       "                           Insulin       BMI  DiabetesPedigreeFunction  \\\n",
       "Pregnancies               0.119618  0.028829                  0.014969   \n",
       "Glucose                   0.180899  0.152330                  0.068436   \n",
       "BloodPressure             0.107820  0.229477                  0.025405   \n",
       "SkinThickness             0.125630  0.415246                  0.051262   \n",
       "Insulin                   1.000000  0.029492                 -0.032920   \n",
       "BMI                       0.029492  1.000000                  0.138813   \n",
       "DiabetesPedigreeFunction -0.032920  0.138813                  1.000000   \n",
       "Age                       0.193573  0.013666                  0.021202   \n",
       "Outcome                   0.140253  0.267172                  0.182401   \n",
       "\n",
       "                               Age   Outcome  \n",
       "Pregnancies               0.513640  0.187868  \n",
       "Glucose                   0.266073  0.478218  \n",
       "BloodPressure             0.352452  0.162221  \n",
       "SkinThickness             0.074935  0.151155  \n",
       "Insulin                   0.193573  0.140253  \n",
       "BMI                       0.013666  0.267172  \n",
       "DiabetesPedigreeFunction  0.021202  0.182401  \n",
       "Age                       1.000000  0.228587  \n",
       "Outcome                   0.228587  1.000000  "
      ]
     },
     "execution_count": 16,
     "metadata": {},
     "output_type": "execute_result"
    }
   ],
   "source": [
    "correlation = df_clean.corr()\n",
    "correlation"
   ]
  },
  {
   "cell_type": "code",
   "execution_count": 17,
   "id": "d7dc55f0",
   "metadata": {},
   "outputs": [
    {
     "data": {
      "text/plain": [
       "<AxesSubplot:>"
      ]
     },
     "execution_count": 17,
     "metadata": {},
     "output_type": "execute_result"
    },
    {
     "data": {
      "image/png": "[encoded data removed]",
      "text/plain": [
       "<Figure size 432x288 with 2 Axes>"
      ]
     },
     "metadata": {
      "needs_background": "light"
     },
     "output_type": "display_data"
    }
   ],
   "source": [
    "sns.heatmap(correlation, cmap=\"Greens\", annot=True)"
   ]
  },
  {
   "cell_type": "code",
   "execution_count": 18,
   "id": "90f75618",
   "metadata": {},
   "outputs": [
    {
     "data": {
      "text/plain": [
       "<seaborn.axisgrid.FacetGrid at 0x7f9367a98b80>"
      ]
     },
     "execution_count": 18,
     "metadata": {},
     "output_type": "execute_result"
    },
    {
     "data": {
      "image/png": "[encoded data removed]",
      "text/plain": [
       "<Figure size 360x360 with 1 Axes>"
      ]
     },
     "metadata": {
      "needs_background": "light"
     },
     "output_type": "display_data"
    }
   ],
   "source": [
    "sns.displot(df['Glucose'])"
   ]
  },
  {
   "cell_type": "markdown",
   "id": "276b5b6f",
   "metadata": {},
   "source": [
    "Investigating the distribution of diabetics/nondiabetics across age variable"
   ]
  },
  {
   "cell_type": "code",
   "execution_count": 19,
   "id": "3908c759",
   "metadata": {},
   "outputs": [
    {
     "data": {
      "image/png": "[encoded data removed]",
      "text/plain": [
       "<Figure size 413.25x360 with 1 Axes>"
      ]
     },
     "metadata": {
      "needs_background": "light"
     },
     "output_type": "display_data"
    }
   ],
   "source": [
    "plot = sns.displot(df_clean, x=\"Age\", hue=\"Outcome\")\n",
    "plt.show()"
   ]
  },
  {
   "cell_type": "markdown",
   "id": "7e1a7ce0",
   "metadata": {},
   "source": [
    "#### Splitting X and y columns"
   ]
  },
  {
   "cell_type": "code",
   "execution_count": 20,
   "id": "bdc53ce7",
   "metadata": {},
   "outputs": [
    {
     "data": {
      "text/html": [
       "<div>\n",
       "<style scoped>\n",
       "    .dataframe tbody tr th:only-of-type {\n",
       "        vertical-align: middle;\n",
       "    }\n",
       "\n",
       "    .dataframe tbody tr th {\n",
       "        vertical-align: top;\n",
       "    }\n",
       "\n",
       "    .dataframe thead th {\n",
       "        text-align: right;\n",
       "    }\n",
       "</style>\n",
       "<table border=\"1\" class=\"dataframe\">\n",
       "  <thead>\n",
       "    <tr style=\"text-align: right;\">\n",
       "      <th></th>\n",
       "      <th>Pregnancies</th>\n",
       "      <th>Glucose</th>\n",
       "      <th>BloodPressure</th>\n",
       "      <th>SkinThickness</th>\n",
       "      <th>Insulin</th>\n",
       "      <th>BMI</th>\n",
       "      <th>DiabetesPedigreeFunction</th>\n",
       "      <th>Age</th>\n",
       "    </tr>\n",
       "  </thead>\n",
       "  <tbody>\n",
       "    <tr>\n",
       "      <th>0</th>\n",
       "      <td>6</td>\n",
       "      <td>148.0</td>\n",
       "      <td>72.0</td>\n",
       "      <td>35.00000</td>\n",
       "      <td>155.548223</td>\n",
       "      <td>33.6</td>\n",
       "      <td>0.627</td>\n",
       "      <td>50</td>\n",
       "    </tr>\n",
       "    <tr>\n",
       "      <th>1</th>\n",
       "      <td>1</td>\n",
       "      <td>85.0</td>\n",
       "      <td>66.0</td>\n",
       "      <td>29.00000</td>\n",
       "      <td>155.548223</td>\n",
       "      <td>26.6</td>\n",
       "      <td>0.351</td>\n",
       "      <td>31</td>\n",
       "    </tr>\n",
       "    <tr>\n",
       "      <th>2</th>\n",
       "      <td>8</td>\n",
       "      <td>183.0</td>\n",
       "      <td>64.0</td>\n",
       "      <td>29.15342</td>\n",
       "      <td>155.548223</td>\n",
       "      <td>23.3</td>\n",
       "      <td>0.672</td>\n",
       "      <td>32</td>\n",
       "    </tr>\n",
       "    <tr>\n",
       "      <th>3</th>\n",
       "      <td>1</td>\n",
       "      <td>89.0</td>\n",
       "      <td>66.0</td>\n",
       "      <td>23.00000</td>\n",
       "      <td>94.000000</td>\n",
       "      <td>28.1</td>\n",
       "      <td>0.167</td>\n",
       "      <td>21</td>\n",
       "    </tr>\n",
       "    <tr>\n",
       "      <th>5</th>\n",
       "      <td>5</td>\n",
       "      <td>116.0</td>\n",
       "      <td>74.0</td>\n",
       "      <td>29.15342</td>\n",
       "      <td>155.548223</td>\n",
       "      <td>25.6</td>\n",
       "      <td>0.201</td>\n",
       "      <td>30</td>\n",
       "    </tr>\n",
       "    <tr>\n",
       "      <th>...</th>\n",
       "      <td>...</td>\n",
       "      <td>...</td>\n",
       "      <td>...</td>\n",
       "      <td>...</td>\n",
       "      <td>...</td>\n",
       "      <td>...</td>\n",
       "      <td>...</td>\n",
       "      <td>...</td>\n",
       "    </tr>\n",
       "    <tr>\n",
       "      <th>762</th>\n",
       "      <td>9</td>\n",
       "      <td>89.0</td>\n",
       "      <td>62.0</td>\n",
       "      <td>29.15342</td>\n",
       "      <td>155.548223</td>\n",
       "      <td>22.5</td>\n",
       "      <td>0.142</td>\n",
       "      <td>33</td>\n",
       "    </tr>\n",
       "    <tr>\n",
       "      <th>764</th>\n",
       "      <td>2</td>\n",
       "      <td>122.0</td>\n",
       "      <td>70.0</td>\n",
       "      <td>27.00000</td>\n",
       "      <td>155.548223</td>\n",
       "      <td>36.8</td>\n",
       "      <td>0.340</td>\n",
       "      <td>27</td>\n",
       "    </tr>\n",
       "    <tr>\n",
       "      <th>765</th>\n",
       "      <td>5</td>\n",
       "      <td>121.0</td>\n",
       "      <td>72.0</td>\n",
       "      <td>23.00000</td>\n",
       "      <td>112.000000</td>\n",
       "      <td>26.2</td>\n",
       "      <td>0.245</td>\n",
       "      <td>30</td>\n",
       "    </tr>\n",
       "    <tr>\n",
       "      <th>766</th>\n",
       "      <td>1</td>\n",
       "      <td>126.0</td>\n",
       "      <td>60.0</td>\n",
       "      <td>29.15342</td>\n",
       "      <td>155.548223</td>\n",
       "      <td>30.1</td>\n",
       "      <td>0.349</td>\n",
       "      <td>47</td>\n",
       "    </tr>\n",
       "    <tr>\n",
       "      <th>767</th>\n",
       "      <td>1</td>\n",
       "      <td>93.0</td>\n",
       "      <td>70.0</td>\n",
       "      <td>31.00000</td>\n",
       "      <td>155.548223</td>\n",
       "      <td>30.4</td>\n",
       "      <td>0.315</td>\n",
       "      <td>23</td>\n",
       "    </tr>\n",
       "  </tbody>\n",
       "</table>\n",
       "<p>515 rows × 8 columns</p>\n",
       "</div>"
      ],
      "text/plain": [
       "     Pregnancies  Glucose  BloodPressure  SkinThickness     Insulin   BMI  \\\n",
       "0              6    148.0           72.0       35.00000  155.548223  33.6   \n",
       "1              1     85.0           66.0       29.00000  155.548223  26.6   \n",
       "2              8    183.0           64.0       29.15342  155.548223  23.3   \n",
       "3              1     89.0           66.0       23.00000   94.000000  28.1   \n",
       "5              5    116.0           74.0       29.15342  155.548223  25.6   \n",
       "..           ...      ...            ...            ...         ...   ...   \n",
       "762            9     89.0           62.0       29.15342  155.548223  22.5   \n",
       "764            2    122.0           70.0       27.00000  155.548223  36.8   \n",
       "765            5    121.0           72.0       23.00000  112.000000  26.2   \n",
       "766            1    126.0           60.0       29.15342  155.548223  30.1   \n",
       "767            1     93.0           70.0       31.00000  155.548223  30.4   \n",
       "\n",
       "     DiabetesPedigreeFunction  Age  \n",
       "0                       0.627   50  \n",
       "1                       0.351   31  \n",
       "2                       0.672   32  \n",
       "3                       0.167   21  \n",
       "5                       0.201   30  \n",
       "..                        ...  ...  \n",
       "762                     0.142   33  \n",
       "764                     0.340   27  \n",
       "765                     0.245   30  \n",
       "766                     0.349   47  \n",
       "767                     0.315   23  \n",
       "\n",
       "[515 rows x 8 columns]"
      ]
     },
     "execution_count": 20,
     "metadata": {},
     "output_type": "execute_result"
    }
   ],
   "source": [
    "X = df_clean.iloc[:, :-1]\n",
    "y = df_clean.iloc[:, -1]\n",
    "X"
   ]
  },
  {
   "cell_type": "markdown",
   "id": "2ca0b670",
   "metadata": {},
   "source": [
    "#### Splitting Train and Test data"
   ]
  },
  {
   "cell_type": "code",
   "execution_count": 21,
   "id": "ac18dcd3",
   "metadata": {},
   "outputs": [],
   "source": [
    "from sklearn.model_selection import train_test_split\n",
    "X_train,X_test, y_train, y_test= train_test_split(X,y, test_size=0.2, random_state=0)"
   ]
  },
  {
   "cell_type": "markdown",
   "id": "7a73a44d",
   "metadata": {},
   "source": [
    "#### data Scaling"
   ]
  },
  {
   "cell_type": "code",
   "execution_count": 22,
   "id": "3e0076fc",
   "metadata": {},
   "outputs": [],
   "source": [
    "from sklearn.preprocessing import StandardScaler\n",
    "sc= StandardScaler()\n",
    "X_train= sc.fit_transform(X_train)\n",
    "X_test= sc.fit_transform(X_test)"
   ]
  },
  {
   "cell_type": "markdown",
   "id": "bb5d79c0",
   "metadata": {},
   "source": [
    "## Models"
   ]
  },
  {
   "cell_type": "markdown",
   "id": "12867b2e",
   "metadata": {},
   "source": [
    "### Logistic Regression Model"
   ]
  },
  {
   "cell_type": "markdown",
   "id": "12c1a906",
   "metadata": {},
   "source": [
    "Training Set"
   ]
  },
  {
   "cell_type": "code",
   "execution_count": 23,
   "id": "8dfb4a66",
   "metadata": {},
   "outputs": [
    {
     "data": {
      "text/plain": [
       "LogisticRegression()"
      ]
     },
     "execution_count": 23,
     "metadata": {},
     "output_type": "execute_result"
    }
   ],
   "source": [
    "from sklearn.linear_model import LogisticRegression\n",
    "classifier_log= LogisticRegression()\n",
    "classifier_log.fit(X_train, y_train)"
   ]
  },
  {
   "cell_type": "markdown",
   "id": "7b6064c9",
   "metadata": {},
   "source": [
    "Predicting test set results"
   ]
  },
  {
   "cell_type": "code",
   "execution_count": 24,
   "id": "5bb10810",
   "metadata": {},
   "outputs": [],
   "source": [
    "\n",
    "ylog_pred = classifier_log.predict(X_test)"
   ]
  },
  {
   "cell_type": "markdown",
   "id": "8e2a649a",
   "metadata": {},
   "source": [
    "Confusion Matrix"
   ]
  },
  {
   "cell_type": "code",
   "execution_count": 25,
   "id": "48a7ecbb",
   "metadata": {},
   "outputs": [
    {
     "name": "stdout",
     "output_type": "stream",
     "text": [
      "[[65 11]\n",
      " [10 17]]\n"
     ]
    }
   ],
   "source": [
    "from sklearn.metrics import confusion_matrix, accuracy_score\n",
    "cm_log= confusion_matrix(y_test, ylog_pred)\n",
    "print(cm_log)\n"
   ]
  },
  {
   "cell_type": "markdown",
   "id": "5bf96019",
   "metadata": {},
   "source": [
    "Computing accuracy"
   ]
  },
  {
   "cell_type": "code",
   "execution_count": 26,
   "id": "1a28af2b",
   "metadata": {
    "scrolled": true
   },
   "outputs": [
    {
     "data": {
      "text/plain": [
       "0.7961165048543689"
      ]
     },
     "execution_count": 26,
     "metadata": {},
     "output_type": "execute_result"
    }
   ],
   "source": [
    "log_accuracy= accuracy_score(y_test, ylog_pred)\n",
    "log_accuracy"
   ]
  },
  {
   "cell_type": "code",
   "execution_count": 27,
   "id": "85b1ac3c",
   "metadata": {},
   "outputs": [
    {
     "data": {
      "text/html": [
       "<div>\n",
       "<style scoped>\n",
       "    .dataframe tbody tr th:only-of-type {\n",
       "        vertical-align: middle;\n",
       "    }\n",
       "\n",
       "    .dataframe tbody tr th {\n",
       "        vertical-align: top;\n",
       "    }\n",
       "\n",
       "    .dataframe thead th {\n",
       "        text-align: right;\n",
       "    }\n",
       "</style>\n",
       "<table border=\"1\" class=\"dataframe\">\n",
       "  <thead>\n",
       "    <tr style=\"text-align: right;\">\n",
       "      <th></th>\n",
       "      <th>precision</th>\n",
       "      <th>recall</th>\n",
       "      <th>f1-score</th>\n",
       "      <th>support</th>\n",
       "    </tr>\n",
       "  </thead>\n",
       "  <tbody>\n",
       "    <tr>\n",
       "      <th>0</th>\n",
       "      <td>0.866667</td>\n",
       "      <td>0.855263</td>\n",
       "      <td>0.860927</td>\n",
       "      <td>76.000000</td>\n",
       "    </tr>\n",
       "    <tr>\n",
       "      <th>1</th>\n",
       "      <td>0.607143</td>\n",
       "      <td>0.629630</td>\n",
       "      <td>0.618182</td>\n",
       "      <td>27.000000</td>\n",
       "    </tr>\n",
       "    <tr>\n",
       "      <th>accuracy</th>\n",
       "      <td>0.796117</td>\n",
       "      <td>0.796117</td>\n",
       "      <td>0.796117</td>\n",
       "      <td>0.796117</td>\n",
       "    </tr>\n",
       "    <tr>\n",
       "      <th>macro avg</th>\n",
       "      <td>0.736905</td>\n",
       "      <td>0.742446</td>\n",
       "      <td>0.739554</td>\n",
       "      <td>103.000000</td>\n",
       "    </tr>\n",
       "    <tr>\n",
       "      <th>weighted avg</th>\n",
       "      <td>0.798636</td>\n",
       "      <td>0.796117</td>\n",
       "      <td>0.797295</td>\n",
       "      <td>103.000000</td>\n",
       "    </tr>\n",
       "  </tbody>\n",
       "</table>\n",
       "</div>"
      ],
      "text/plain": [
       "              precision    recall  f1-score     support\n",
       "0              0.866667  0.855263  0.860927   76.000000\n",
       "1              0.607143  0.629630  0.618182   27.000000\n",
       "accuracy       0.796117  0.796117  0.796117    0.796117\n",
       "macro avg      0.736905  0.742446  0.739554  103.000000\n",
       "weighted avg   0.798636  0.796117  0.797295  103.000000"
      ]
     },
     "execution_count": 27,
     "metadata": {},
     "output_type": "execute_result"
    }
   ],
   "source": [
    "# Computing classification report\n",
    "from sklearn.metrics import classification_report\n",
    "report_log = classification_report(y_test, ylog_pred, output_dict=True)\n",
    "data_log = pd.DataFrame(report_log).transpose()\n",
    "data_log"
   ]
  },
  {
   "cell_type": "markdown",
   "id": "4b6188d3",
   "metadata": {},
   "source": [
    "### Support Vector Machine"
   ]
  },
  {
   "cell_type": "code",
   "execution_count": 28,
   "id": "cc71915f",
   "metadata": {},
   "outputs": [
    {
     "data": {
      "text/plain": [
       "SVC(kernel='linear')"
      ]
     },
     "execution_count": 28,
     "metadata": {},
     "output_type": "execute_result"
    }
   ],
   "source": [
    "from sklearn.svm import SVC\n",
    "classifier_svc = SVC(kernel = 'linear')\n",
    "classifier_svc.fit(X_train, y_train)"
   ]
  },
  {
   "cell_type": "code",
   "execution_count": 29,
   "id": "9f0be7c8",
   "metadata": {},
   "outputs": [],
   "source": [
    "#redicting test data\n",
    "ysvc_pred= classifier_svc.predict(X_test)"
   ]
  },
  {
   "cell_type": "code",
   "execution_count": 30,
   "id": "7f45621a",
   "metadata": {},
   "outputs": [
    {
     "data": {
      "text/plain": [
       "array([[66, 10],\n",
       "       [11, 16]])"
      ]
     },
     "execution_count": 30,
     "metadata": {},
     "output_type": "execute_result"
    }
   ],
   "source": [
    "# Confusion Matrix\n",
    "from sklearn.metrics import confusion_matrix, accuracy_score\n",
    "cm_svc= confusion_matrix(y_test, ysvc_pred)\n",
    "cm_svc"
   ]
  },
  {
   "cell_type": "code",
   "execution_count": 31,
   "id": "123bb6bb",
   "metadata": {},
   "outputs": [
    {
     "data": {
      "text/plain": [
       "0.7961165048543689"
      ]
     },
     "execution_count": 31,
     "metadata": {},
     "output_type": "execute_result"
    }
   ],
   "source": [
    "svc_accuracy= accuracy_score(y_test, ysvc_pred)\n",
    "svc_accuracy"
   ]
  },
  {
   "cell_type": "code",
   "execution_count": 32,
   "id": "e5af55eb",
   "metadata": {},
   "outputs": [
    {
     "data": {
      "text/html": [
       "<div>\n",
       "<style scoped>\n",
       "    .dataframe tbody tr th:only-of-type {\n",
       "        vertical-align: middle;\n",
       "    }\n",
       "\n",
       "    .dataframe tbody tr th {\n",
       "        vertical-align: top;\n",
       "    }\n",
       "\n",
       "    .dataframe thead th {\n",
       "        text-align: right;\n",
       "    }\n",
       "</style>\n",
       "<table border=\"1\" class=\"dataframe\">\n",
       "  <thead>\n",
       "    <tr style=\"text-align: right;\">\n",
       "      <th></th>\n",
       "      <th>precision</th>\n",
       "      <th>recall</th>\n",
       "      <th>f1-score</th>\n",
       "      <th>support</th>\n",
       "    </tr>\n",
       "  </thead>\n",
       "  <tbody>\n",
       "    <tr>\n",
       "      <th>0</th>\n",
       "      <td>0.857143</td>\n",
       "      <td>0.868421</td>\n",
       "      <td>0.862745</td>\n",
       "      <td>76.000000</td>\n",
       "    </tr>\n",
       "    <tr>\n",
       "      <th>1</th>\n",
       "      <td>0.615385</td>\n",
       "      <td>0.592593</td>\n",
       "      <td>0.603774</td>\n",
       "      <td>27.000000</td>\n",
       "    </tr>\n",
       "    <tr>\n",
       "      <th>accuracy</th>\n",
       "      <td>0.796117</td>\n",
       "      <td>0.796117</td>\n",
       "      <td>0.796117</td>\n",
       "      <td>0.796117</td>\n",
       "    </tr>\n",
       "    <tr>\n",
       "      <th>macro avg</th>\n",
       "      <td>0.736264</td>\n",
       "      <td>0.730507</td>\n",
       "      <td>0.733259</td>\n",
       "      <td>103.000000</td>\n",
       "    </tr>\n",
       "    <tr>\n",
       "      <th>weighted avg</th>\n",
       "      <td>0.793769</td>\n",
       "      <td>0.796117</td>\n",
       "      <td>0.794859</td>\n",
       "      <td>103.000000</td>\n",
       "    </tr>\n",
       "  </tbody>\n",
       "</table>\n",
       "</div>"
      ],
      "text/plain": [
       "              precision    recall  f1-score     support\n",
       "0              0.857143  0.868421  0.862745   76.000000\n",
       "1              0.615385  0.592593  0.603774   27.000000\n",
       "accuracy       0.796117  0.796117  0.796117    0.796117\n",
       "macro avg      0.736264  0.730507  0.733259  103.000000\n",
       "weighted avg   0.793769  0.796117  0.794859  103.000000"
      ]
     },
     "execution_count": 32,
     "metadata": {},
     "output_type": "execute_result"
    }
   ],
   "source": [
    "from sklearn.metrics import classification_report\n",
    "report_svc = classification_report(y_test, ysvc_pred, output_dict=True)\n",
    "data_svc = pd.DataFrame(report_svc).transpose()\n",
    "data_svc"
   ]
  },
  {
   "cell_type": "markdown",
   "id": "ec34c0c0",
   "metadata": {},
   "source": [
    "### Decision Tree"
   ]
  },
  {
   "cell_type": "code",
   "execution_count": 33,
   "id": "c8d440a4",
   "metadata": {},
   "outputs": [
    {
     "data": {
      "text/plain": [
       "DecisionTreeClassifier(max_depth=5)"
      ]
     },
     "execution_count": 33,
     "metadata": {},
     "output_type": "execute_result"
    }
   ],
   "source": [
    "from sklearn.tree import DecisionTreeClassifier\n",
    "classifier_dec = DecisionTreeClassifier(max_depth=5)\n",
    "classifier_dec.fit(X_train, y_train)"
   ]
  },
  {
   "cell_type": "code",
   "execution_count": 34,
   "id": "5134085b",
   "metadata": {},
   "outputs": [],
   "source": [
    "#predicting test data\n",
    "ydec_pred= classifier_dec.predict(X_test)"
   ]
  },
  {
   "cell_type": "code",
   "execution_count": 35,
   "id": "0938ab3a",
   "metadata": {},
   "outputs": [
    {
     "data": {
      "text/plain": [
       "array([[58, 18],\n",
       "       [10, 17]])"
      ]
     },
     "execution_count": 35,
     "metadata": {},
     "output_type": "execute_result"
    }
   ],
   "source": [
    "# Confusion Matrix\n",
    "from sklearn.metrics import confusion_matrix, accuracy_score\n",
    "cm_dec= confusion_matrix(y_test, ydec_pred)\n",
    "cm_dec"
   ]
  },
  {
   "cell_type": "code",
   "execution_count": 36,
   "id": "f2ba11b1",
   "metadata": {},
   "outputs": [
    {
     "data": {
      "text/plain": [
       "0.7281553398058253"
      ]
     },
     "execution_count": 36,
     "metadata": {},
     "output_type": "execute_result"
    }
   ],
   "source": [
    "dec_accuracy= accuracy_score(y_test, ydec_pred)\n",
    "dec_accuracy"
   ]
  },
  {
   "cell_type": "code",
   "execution_count": 37,
   "id": "7a0b9ac7",
   "metadata": {},
   "outputs": [
    {
     "data": {
      "text/html": [
       "<div>\n",
       "<style scoped>\n",
       "    .dataframe tbody tr th:only-of-type {\n",
       "        vertical-align: middle;\n",
       "    }\n",
       "\n",
       "    .dataframe tbody tr th {\n",
       "        vertical-align: top;\n",
       "    }\n",
       "\n",
       "    .dataframe thead th {\n",
       "        text-align: right;\n",
       "    }\n",
       "</style>\n",
       "<table border=\"1\" class=\"dataframe\">\n",
       "  <thead>\n",
       "    <tr style=\"text-align: right;\">\n",
       "      <th></th>\n",
       "      <th>precision</th>\n",
       "      <th>recall</th>\n",
       "      <th>f1-score</th>\n",
       "      <th>support</th>\n",
       "    </tr>\n",
       "  </thead>\n",
       "  <tbody>\n",
       "    <tr>\n",
       "      <th>0</th>\n",
       "      <td>0.852941</td>\n",
       "      <td>0.763158</td>\n",
       "      <td>0.805556</td>\n",
       "      <td>76.000000</td>\n",
       "    </tr>\n",
       "    <tr>\n",
       "      <th>1</th>\n",
       "      <td>0.485714</td>\n",
       "      <td>0.629630</td>\n",
       "      <td>0.548387</td>\n",
       "      <td>27.000000</td>\n",
       "    </tr>\n",
       "    <tr>\n",
       "      <th>accuracy</th>\n",
       "      <td>0.728155</td>\n",
       "      <td>0.728155</td>\n",
       "      <td>0.728155</td>\n",
       "      <td>0.728155</td>\n",
       "    </tr>\n",
       "    <tr>\n",
       "      <th>macro avg</th>\n",
       "      <td>0.669328</td>\n",
       "      <td>0.696394</td>\n",
       "      <td>0.676971</td>\n",
       "      <td>103.000000</td>\n",
       "    </tr>\n",
       "    <tr>\n",
       "      <th>weighted avg</th>\n",
       "      <td>0.756678</td>\n",
       "      <td>0.728155</td>\n",
       "      <td>0.738142</td>\n",
       "      <td>103.000000</td>\n",
       "    </tr>\n",
       "  </tbody>\n",
       "</table>\n",
       "</div>"
      ],
      "text/plain": [
       "              precision    recall  f1-score     support\n",
       "0              0.852941  0.763158  0.805556   76.000000\n",
       "1              0.485714  0.629630  0.548387   27.000000\n",
       "accuracy       0.728155  0.728155  0.728155    0.728155\n",
       "macro avg      0.669328  0.696394  0.676971  103.000000\n",
       "weighted avg   0.756678  0.728155  0.738142  103.000000"
      ]
     },
     "execution_count": 37,
     "metadata": {},
     "output_type": "execute_result"
    }
   ],
   "source": [
    "from sklearn.metrics import classification_report\n",
    "report_dec = classification_report(y_test, ydec_pred, output_dict=True)\n",
    "data_dec = pd.DataFrame(report_dec).transpose()\n",
    "data_dec"
   ]
  },
  {
   "cell_type": "markdown",
   "id": "ffaf7e49",
   "metadata": {},
   "source": [
    "### KNN"
   ]
  },
  {
   "cell_type": "code",
   "execution_count": 38,
   "id": "8d0c7083",
   "metadata": {},
   "outputs": [
    {
     "data": {
      "text/plain": [
       "KNeighborsClassifier()"
      ]
     },
     "execution_count": 38,
     "metadata": {},
     "output_type": "execute_result"
    }
   ],
   "source": [
    "from sklearn.neighbors import KNeighborsClassifier\n",
    "classifier_knn= KNeighborsClassifier(n_neighbors=5, metric= 'minkowski', p=2)\n",
    "classifier_knn.fit(X_train, y_train)"
   ]
  },
  {
   "cell_type": "code",
   "execution_count": 39,
   "id": "546353a4",
   "metadata": {},
   "outputs": [],
   "source": [
    "#predicting test data\n",
    "yknn_pred= classifier_knn.predict(X_test)"
   ]
  },
  {
   "cell_type": "code",
   "execution_count": 40,
   "id": "f0c4d65a",
   "metadata": {},
   "outputs": [
    {
     "data": {
      "text/plain": [
       "array([[61, 15],\n",
       "       [11, 16]])"
      ]
     },
     "execution_count": 40,
     "metadata": {},
     "output_type": "execute_result"
    }
   ],
   "source": [
    "# Confusion Matrix\n",
    "from sklearn.metrics import confusion_matrix, accuracy_score\n",
    "cm= confusion_matrix(y_test, yknn_pred)\n",
    "cm"
   ]
  },
  {
   "cell_type": "code",
   "execution_count": 41,
   "id": "1d70e8d1",
   "metadata": {},
   "outputs": [
    {
     "data": {
      "text/plain": [
       "0.7475728155339806"
      ]
     },
     "execution_count": 41,
     "metadata": {},
     "output_type": "execute_result"
    }
   ],
   "source": [
    "knn_accuracy= accuracy_score(y_test, yknn_pred)\n",
    "knn_accuracy"
   ]
  },
  {
   "cell_type": "code",
   "execution_count": 42,
   "id": "4132bd47",
   "metadata": {},
   "outputs": [
    {
     "data": {
      "text/html": [
       "<div>\n",
       "<style scoped>\n",
       "    .dataframe tbody tr th:only-of-type {\n",
       "        vertical-align: middle;\n",
       "    }\n",
       "\n",
       "    .dataframe tbody tr th {\n",
       "        vertical-align: top;\n",
       "    }\n",
       "\n",
       "    .dataframe thead th {\n",
       "        text-align: right;\n",
       "    }\n",
       "</style>\n",
       "<table border=\"1\" class=\"dataframe\">\n",
       "  <thead>\n",
       "    <tr style=\"text-align: right;\">\n",
       "      <th></th>\n",
       "      <th>precision</th>\n",
       "      <th>recall</th>\n",
       "      <th>f1-score</th>\n",
       "      <th>support</th>\n",
       "    </tr>\n",
       "  </thead>\n",
       "  <tbody>\n",
       "    <tr>\n",
       "      <th>0</th>\n",
       "      <td>0.847222</td>\n",
       "      <td>0.802632</td>\n",
       "      <td>0.824324</td>\n",
       "      <td>76.000000</td>\n",
       "    </tr>\n",
       "    <tr>\n",
       "      <th>1</th>\n",
       "      <td>0.516129</td>\n",
       "      <td>0.592593</td>\n",
       "      <td>0.551724</td>\n",
       "      <td>27.000000</td>\n",
       "    </tr>\n",
       "    <tr>\n",
       "      <th>accuracy</th>\n",
       "      <td>0.747573</td>\n",
       "      <td>0.747573</td>\n",
       "      <td>0.747573</td>\n",
       "      <td>0.747573</td>\n",
       "    </tr>\n",
       "    <tr>\n",
       "      <th>macro avg</th>\n",
       "      <td>0.681676</td>\n",
       "      <td>0.697612</td>\n",
       "      <td>0.688024</td>\n",
       "      <td>103.000000</td>\n",
       "    </tr>\n",
       "    <tr>\n",
       "      <th>weighted avg</th>\n",
       "      <td>0.760431</td>\n",
       "      <td>0.747573</td>\n",
       "      <td>0.752866</td>\n",
       "      <td>103.000000</td>\n",
       "    </tr>\n",
       "  </tbody>\n",
       "</table>\n",
       "</div>"
      ],
      "text/plain": [
       "              precision    recall  f1-score     support\n",
       "0              0.847222  0.802632  0.824324   76.000000\n",
       "1              0.516129  0.592593  0.551724   27.000000\n",
       "accuracy       0.747573  0.747573  0.747573    0.747573\n",
       "macro avg      0.681676  0.697612  0.688024  103.000000\n",
       "weighted avg   0.760431  0.747573  0.752866  103.000000"
      ]
     },
     "execution_count": 42,
     "metadata": {},
     "output_type": "execute_result"
    }
   ],
   "source": [
    "# creating classification table\n",
    "from sklearn.metrics import classification_report\n",
    "report_knn = classification_report(y_test, yknn_pred, output_dict=True)\n",
    "data_knn = pd.DataFrame(report_knn).transpose()\n",
    "data_knn"
   ]
  },
  {
   "cell_type": "markdown",
   "id": "f8f66581",
   "metadata": {},
   "source": [
    "### Random Forest Model"
   ]
  },
  {
   "cell_type": "code",
   "execution_count": 43,
   "id": "d5e33de4",
   "metadata": {},
   "outputs": [
    {
     "data": {
      "text/plain": [
       "RandomForestClassifier(n_estimators=10, random_state=42)"
      ]
     },
     "execution_count": 43,
     "metadata": {},
     "output_type": "execute_result"
    }
   ],
   "source": [
    "from sklearn.ensemble import RandomForestClassifier\n",
    "classifier_rand = RandomForestClassifier(n_estimators = 10, random_state = 42)\n",
    "classifier_rand.fit(X_train, y_train)"
   ]
  },
  {
   "cell_type": "code",
   "execution_count": 44,
   "id": "6adad3f3",
   "metadata": {},
   "outputs": [],
   "source": [
    "#predicting test data\n",
    "yrand_pred= classifier_rand.predict(X_test)"
   ]
  },
  {
   "cell_type": "code",
   "execution_count": 45,
   "id": "7571390e",
   "metadata": {},
   "outputs": [
    {
     "data": {
      "text/plain": [
       "array([[65, 11],\n",
       "       [ 9, 18]])"
      ]
     },
     "execution_count": 45,
     "metadata": {},
     "output_type": "execute_result"
    }
   ],
   "source": [
    "# Confusion Matrix\n",
    "from sklearn.metrics import confusion_matrix, accuracy_score\n",
    "cm_rand= confusion_matrix(y_test, yrand_pred)\n",
    "cm_rand"
   ]
  },
  {
   "cell_type": "code",
   "execution_count": 46,
   "id": "4aefe091",
   "metadata": {},
   "outputs": [
    {
     "data": {
      "text/plain": [
       "0.8058252427184466"
      ]
     },
     "execution_count": 46,
     "metadata": {},
     "output_type": "execute_result"
    }
   ],
   "source": [
    "# Checking Accuracy score\n",
    "rand_accuracy= accuracy_score(y_test, yrand_pred)\n",
    "rand_accuracy"
   ]
  },
  {
   "cell_type": "code",
   "execution_count": 47,
   "id": "e836c9de",
   "metadata": {
    "scrolled": true
   },
   "outputs": [
    {
     "data": {
      "text/html": [
       "<div>\n",
       "<style scoped>\n",
       "    .dataframe tbody tr th:only-of-type {\n",
       "        vertical-align: middle;\n",
       "    }\n",
       "\n",
       "    .dataframe tbody tr th {\n",
       "        vertical-align: top;\n",
       "    }\n",
       "\n",
       "    .dataframe thead th {\n",
       "        text-align: right;\n",
       "    }\n",
       "</style>\n",
       "<table border=\"1\" class=\"dataframe\">\n",
       "  <thead>\n",
       "    <tr style=\"text-align: right;\">\n",
       "      <th></th>\n",
       "      <th>precision</th>\n",
       "      <th>recall</th>\n",
       "      <th>f1-score</th>\n",
       "      <th>support</th>\n",
       "    </tr>\n",
       "  </thead>\n",
       "  <tbody>\n",
       "    <tr>\n",
       "      <th>0</th>\n",
       "      <td>0.878378</td>\n",
       "      <td>0.855263</td>\n",
       "      <td>0.866667</td>\n",
       "      <td>76.000000</td>\n",
       "    </tr>\n",
       "    <tr>\n",
       "      <th>1</th>\n",
       "      <td>0.620690</td>\n",
       "      <td>0.666667</td>\n",
       "      <td>0.642857</td>\n",
       "      <td>27.000000</td>\n",
       "    </tr>\n",
       "    <tr>\n",
       "      <th>accuracy</th>\n",
       "      <td>0.805825</td>\n",
       "      <td>0.805825</td>\n",
       "      <td>0.805825</td>\n",
       "      <td>0.805825</td>\n",
       "    </tr>\n",
       "    <tr>\n",
       "      <th>macro avg</th>\n",
       "      <td>0.749534</td>\n",
       "      <td>0.760965</td>\n",
       "      <td>0.754762</td>\n",
       "      <td>103.000000</td>\n",
       "    </tr>\n",
       "    <tr>\n",
       "      <th>weighted avg</th>\n",
       "      <td>0.810829</td>\n",
       "      <td>0.805825</td>\n",
       "      <td>0.807998</td>\n",
       "      <td>103.000000</td>\n",
       "    </tr>\n",
       "  </tbody>\n",
       "</table>\n",
       "</div>"
      ],
      "text/plain": [
       "              precision    recall  f1-score     support\n",
       "0              0.878378  0.855263  0.866667   76.000000\n",
       "1              0.620690  0.666667  0.642857   27.000000\n",
       "accuracy       0.805825  0.805825  0.805825    0.805825\n",
       "macro avg      0.749534  0.760965  0.754762  103.000000\n",
       "weighted avg   0.810829  0.805825  0.807998  103.000000"
      ]
     },
     "execution_count": 47,
     "metadata": {},
     "output_type": "execute_result"
    }
   ],
   "source": [
    "# creating classification table\n",
    "from sklearn.metrics import classification_report\n",
    "report_rand = classification_report(y_test, yrand_pred, output_dict=True)\n",
    "data_rand = pd.DataFrame(report_rand).transpose()\n",
    "data_rand"
   ]
  },
  {
   "cell_type": "markdown",
   "id": "b4e2d446",
   "metadata": {},
   "source": [
    "#### Visualisng each model accuracy"
   ]
  },
  {
   "cell_type": "code",
   "execution_count": 48,
   "id": "b9cde8cc",
   "metadata": {},
   "outputs": [
    {
     "data": {
      "image/png": "[encoded data removed]",
      "text/plain": [
       "<Figure size 576x432 with 1 Axes>"
      ]
     },
     "metadata": {
      "needs_background": "light"
     },
     "output_type": "display_data"
    }
   ],
   "source": [
    "# Creating bar graphs\n",
    "plt.figure(figsize=(8, 6)) # set the figure size\n",
    "bars = plt.bar(['Logistic Regression', 'Support Vector Machine', 'Decision Tree', 'KNN', 'Random Forest Classifier'], \n",
    "        [log_accuracy, svc_accuracy, dec_accuracy, knn_accuracy, rand_accuracy])\n",
    "\n",
    "# Add labels and title to the graph\n",
    "plt.xlabel('Models')\n",
    "plt.ylabel('Accuracy Score')\n",
    "plt.title('Accuracy Scores of Different Models')\n",
    "\n",
    "plt.xticks(rotation=45)\n",
    "\n",
    "# Adding the accuracy scores on top of each bar\n",
    "for bar, score in zip(bars, [log_accuracy, svc_accuracy, dec_accuracy, knn_accuracy, rand_accuracy]):\n",
    "    plt.text(bar.get_x() + bar.get_width()/2.0, bar.get_height(), round(score, 2), ha='center', va='bottom')\n",
    "\n",
    "# Show the graph\n",
    "plt.show()\n"
   ]
  },
  {
   "cell_type": "code",
   "execution_count": null,
   "id": "b1ee52a7",
   "metadata": {},
   "outputs": [],
   "source": []
  }
 ],
 "metadata": {
  "kernelspec": {
   "display_name": "Python 3 (ipykernel)",
   "language": "python",
   "name": "python3"
  },
  "language_info": {
   "codemirror_mode": {
    "name": "ipython",
    "version": 3
   },
   "file_extension": ".py",
   "mimetype": "text/x-python",
   "name": "python",
   "nbconvert_exporter": "python",
   "pygments_lexer": "ipython3",
   "version": "3.9.12"
  }
 },
 "nbformat": 4,
 "nbformat_minor": 5
}
