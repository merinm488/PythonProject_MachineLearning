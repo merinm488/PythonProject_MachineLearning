{
 "cells": [
  {
   "cell_type": "code",
   "execution_count": 1,
   "metadata": {
    "id": "DmXtEztRCoLM"
   },
   "outputs": [],
   "source": [
    "# Importing  Libraries\n",
    "%matplotlib inline\n",
    "import matplotlib.pyplot as plt\n",
    "import numpy as np\n",
    "import pandas as pd"
   ]
  },
  {
   "cell_type": "code",
   "execution_count": 2,
   "metadata": {
    "colab": {
     "base_uri": "https://localhost:8080/"
    },
    "id": "3turaz-ZCye1",
    "outputId": "fe3aba14-9b0c-4fc5-93c5-8a5d06e275b4"
   },
   "outputs": [
    {
     "data": {
      "text/plain": [
       "662.638532377825"
      ]
     },
     "execution_count": 2,
     "metadata": {},
     "output_type": "execute_result"
    }
   ],
   "source": [
    "P = 31115 * (1.075)\n",
    "r = 0.0702 / 12\n",
    "n = 60\n",
    "numerator = (r *((1 + r)**(n)) )\n",
    "denominator = ((1 + r)**(n)) - 1\n",
    "EMI = P * (numerator / denominator)\n",
    "EMI"
   ]
  },
  {
   "cell_type": "code",
   "execution_count": 3,
   "metadata": {
    "colab": {
     "base_uri": "https://localhost:8080/"
    },
    "id": "_rKjJVoIC4CR",
    "outputId": "37e69972-fe77-4944-8a3a-6c0bafc7cd16"
   },
   "outputs": [
    {
     "data": {
      "text/plain": [
       "687.2302176619154"
      ]
     },
     "execution_count": 3,
     "metadata": {},
     "output_type": "execute_result"
    }
   ],
   "source": [
    "P = 31115 + (32615 * 0.0975) + 50 + 200 + 65 + 80\n",
    "r = 0.0702 / 12\n",
    "n = 60\n",
    "numerator = (r *((1 + r)**(n)) )\n",
    "denominator = ((1 + r)**(n)) - 1\n",
    "EMI = P * (numerator / denominator)\n",
    "EMI"
   ]
  },
  {
   "cell_type": "code",
   "execution_count": 4,
   "metadata": {
    "colab": {
     "base_uri": "https://localhost:8080/",
     "height": 36
    },
    "id": "TFxbqCZkDBcP",
    "outputId": "216f58df-fe63-4a63-b34d-ffa3cab96e5d"
   },
   "outputs": [
    {
     "data": {
      "text/plain": [
       "'The Monthly Payment with fees included is 24.59 higher'"
      ]
     },
     "execution_count": 4,
     "metadata": {},
     "output_type": "execute_result"
    }
   ],
   "source": [
    "'The Monthly Payment with fees included is {} higher'.format(np.round(687.23 - 662.64,2))\n"
   ]
  },
  {
   "cell_type": "code",
   "execution_count": 6,
   "metadata": {
    "colab": {
     "base_uri": "https://localhost:8080/"
    },
    "id": "iZeky_XhDFDO",
    "outputId": "034f8e27-107f-4d7f-f72f-980a32ebab84"
   },
   "outputs": [
    {
     "data": {
      "text/plain": [
       "202.93628062500002"
      ]
     },
     "execution_count": 6,
     "metadata": {},
     "output_type": "execute_result"
    }
   ],
   "source": [
    "# Calculate one month of interest\n",
    "P = 34689.9625\n",
    "r = 0.0702 / 12\n",
    "\n",
    "r * P"
   ]
  },
  {
   "cell_type": "code",
   "execution_count": 7,
   "metadata": {
    "colab": {
     "base_uri": "https://localhost:8080/"
    },
    "id": "N2aYEn8mDKne",
    "outputId": "fbb2e0bb-16d2-4b67-a21b-73356740d058"
   },
   "outputs": [
    {
     "data": {
      "text/plain": [
       "34205.6725"
      ]
     },
     "execution_count": 7,
     "metadata": {},
     "output_type": "execute_result"
    }
   ],
   "source": [
    "# Calculate new principal (after one payment)\n",
    "\n",
    "34689.9625 - (687.23 - 202.94)"
   ]
  },
  {
   "cell_type": "code",
   "execution_count": 7,
   "metadata": {
    "id": "AFcu0tYiDhDA"
   },
   "outputs": [],
   "source": [
    "term = 60\n",
    "P = 34689.96\n",
    "\n",
    "def calc_interest(P,emi,interest_rate = 0.0702):\n",
    "    interest_paid = np.floor(((interest_rate/12)*P)*100)/100\n",
    "    principal_paid = np.round(emi-interest_paid, 2)\n",
    "    new_balance = np.round(P - principal_paid,2)\n",
    "    return(emi, interest_paid, principal_paid, new_balance)\n",
    "\n",
    "payment_list = []\n",
    "for n in range(1, term + 1):\n",
    "    emi,i_paid,p_paid,new_p = calc_interest(P, EMI)\n",
    "    payment_list.append([n, P, EMI, i_paid, p_paid, new_p])\n",
    "    P = np.round(new_p,2)"
   ]
  },
  {
   "cell_type": "code",
   "execution_count": 9,
   "metadata": {
    "id": "M-z0cTCND6Mk"
   },
   "outputs": [],
   "source": [
    "c_names = ['Month','Starting Balance','Repayment','Interest Paid','Principal Paid','New Balance']\n",
    "payment_table = pd.DataFrame(payment_list, columns = c_names)"
   ]
  },
  {
   "cell_type": "code",
   "execution_count": 10,
   "metadata": {
    "colab": {
     "base_uri": "https://localhost:8080/",
     "height": 363
    },
    "id": "YqmySIF4D-Ug",
    "outputId": "fb2b8f63-baf7-4495-aa12-e98915546159"
   },
   "outputs": [
    {
     "data": {
      "text/html": [
       "\n",
       "  <div id=\"df-5ef07ee0-75cf-410f-87f0-44fad7367fa3\">\n",
       "    <div class=\"colab-df-container\">\n",
       "      <div>\n",
       "<style scoped>\n",
       "    .dataframe tbody tr th:only-of-type {\n",
       "        vertical-align: middle;\n",
       "    }\n",
       "\n",
       "    .dataframe tbody tr th {\n",
       "        vertical-align: top;\n",
       "    }\n",
       "\n",
       "    .dataframe thead th {\n",
       "        text-align: right;\n",
       "    }\n",
       "</style>\n",
       "<table border=\"1\" class=\"dataframe\">\n",
       "  <thead>\n",
       "    <tr style=\"text-align: right;\">\n",
       "      <th></th>\n",
       "      <th>Month</th>\n",
       "      <th>Starting Balance</th>\n",
       "      <th>Repayment</th>\n",
       "      <th>Interest Paid</th>\n",
       "      <th>Principal Paid</th>\n",
       "      <th>New Balance</th>\n",
       "    </tr>\n",
       "  </thead>\n",
       "  <tbody>\n",
       "    <tr>\n",
       "      <th>0</th>\n",
       "      <td>1</td>\n",
       "      <td>34689.96</td>\n",
       "      <td>687.230218</td>\n",
       "      <td>202.93</td>\n",
       "      <td>484.30</td>\n",
       "      <td>34205.66</td>\n",
       "    </tr>\n",
       "    <tr>\n",
       "      <th>1</th>\n",
       "      <td>2</td>\n",
       "      <td>34205.66</td>\n",
       "      <td>687.230218</td>\n",
       "      <td>200.10</td>\n",
       "      <td>487.13</td>\n",
       "      <td>33718.53</td>\n",
       "    </tr>\n",
       "    <tr>\n",
       "      <th>2</th>\n",
       "      <td>3</td>\n",
       "      <td>33718.53</td>\n",
       "      <td>687.230218</td>\n",
       "      <td>197.25</td>\n",
       "      <td>489.98</td>\n",
       "      <td>33228.55</td>\n",
       "    </tr>\n",
       "    <tr>\n",
       "      <th>3</th>\n",
       "      <td>4</td>\n",
       "      <td>33228.55</td>\n",
       "      <td>687.230218</td>\n",
       "      <td>194.38</td>\n",
       "      <td>492.85</td>\n",
       "      <td>32735.70</td>\n",
       "    </tr>\n",
       "    <tr>\n",
       "      <th>4</th>\n",
       "      <td>5</td>\n",
       "      <td>32735.70</td>\n",
       "      <td>687.230218</td>\n",
       "      <td>191.50</td>\n",
       "      <td>495.73</td>\n",
       "      <td>32239.97</td>\n",
       "    </tr>\n",
       "    <tr>\n",
       "      <th>5</th>\n",
       "      <td>6</td>\n",
       "      <td>32239.97</td>\n",
       "      <td>687.230218</td>\n",
       "      <td>188.60</td>\n",
       "      <td>498.63</td>\n",
       "      <td>31741.34</td>\n",
       "    </tr>\n",
       "    <tr>\n",
       "      <th>6</th>\n",
       "      <td>7</td>\n",
       "      <td>31741.34</td>\n",
       "      <td>687.230218</td>\n",
       "      <td>185.68</td>\n",
       "      <td>501.55</td>\n",
       "      <td>31239.79</td>\n",
       "    </tr>\n",
       "    <tr>\n",
       "      <th>7</th>\n",
       "      <td>8</td>\n",
       "      <td>31239.79</td>\n",
       "      <td>687.230218</td>\n",
       "      <td>182.75</td>\n",
       "      <td>504.48</td>\n",
       "      <td>30735.31</td>\n",
       "    </tr>\n",
       "    <tr>\n",
       "      <th>8</th>\n",
       "      <td>9</td>\n",
       "      <td>30735.31</td>\n",
       "      <td>687.230218</td>\n",
       "      <td>179.80</td>\n",
       "      <td>507.43</td>\n",
       "      <td>30227.88</td>\n",
       "    </tr>\n",
       "    <tr>\n",
       "      <th>9</th>\n",
       "      <td>10</td>\n",
       "      <td>30227.88</td>\n",
       "      <td>687.230218</td>\n",
       "      <td>176.83</td>\n",
       "      <td>510.40</td>\n",
       "      <td>29717.48</td>\n",
       "    </tr>\n",
       "  </tbody>\n",
       "</table>\n",
       "</div>\n",
       "      <button class=\"colab-df-convert\" onclick=\"convertToInteractive('df-5ef07ee0-75cf-410f-87f0-44fad7367fa3')\"\n",
       "              title=\"Convert this dataframe to an interactive table.\"\n",
       "              style=\"display:none;\">\n",
       "        \n",
       "  <svg xmlns=\"http://www.w3.org/2000/svg\" height=\"24px\"viewBox=\"0 0 24 24\"\n",
       "       width=\"24px\">\n",
       "    <path d=\"M0 0h24v24H0V0z\" fill=\"none\"/>\n",
       "    <path d=\"M18.56 5.44l.94 2.06.94-2.06 2.06-.94-2.06-.94-.94-2.06-.94 2.06-2.06.94zm-11 1L8.5 8.5l.94-2.06 2.06-.94-2.06-.94L8.5 2.5l-.94 2.06-2.06.94zm10 10l.94 2.06.94-2.06 2.06-.94-2.06-.94-.94-2.06-.94 2.06-2.06.94z\"/><path d=\"M17.41 7.96l-1.37-1.37c-.4-.4-.92-.59-1.43-.59-.52 0-1.04.2-1.43.59L10.3 9.45l-7.72 7.72c-.78.78-.78 2.05 0 2.83L4 21.41c.39.39.9.59 1.41.59.51 0 1.02-.2 1.41-.59l7.78-7.78 2.81-2.81c.8-.78.8-2.07 0-2.86zM5.41 20L4 18.59l7.72-7.72 1.47 1.35L5.41 20z\"/>\n",
       "  </svg>\n",
       "      </button>\n",
       "      \n",
       "  <style>\n",
       "    .colab-df-container {\n",
       "      display:flex;\n",
       "      flex-wrap:wrap;\n",
       "      gap: 12px;\n",
       "    }\n",
       "\n",
       "    .colab-df-convert {\n",
       "      background-color: #E8F0FE;\n",
       "      border: none;\n",
       "      border-radius: 50%;\n",
       "      cursor: pointer;\n",
       "      display: none;\n",
       "      fill: #1967D2;\n",
       "      height: 32px;\n",
       "      padding: 0 0 0 0;\n",
       "      width: 32px;\n",
       "    }\n",
       "\n",
       "    .colab-df-convert:hover {\n",
       "      background-color: #E2EBFA;\n",
       "      box-shadow: 0px 1px 2px rgba(60, 64, 67, 0.3), 0px 1px 3px 1px rgba(60, 64, 67, 0.15);\n",
       "      fill: #174EA6;\n",
       "    }\n",
       "\n",
       "    [theme=dark] .colab-df-convert {\n",
       "      background-color: #3B4455;\n",
       "      fill: #D2E3FC;\n",
       "    }\n",
       "\n",
       "    [theme=dark] .colab-df-convert:hover {\n",
       "      background-color: #434B5C;\n",
       "      box-shadow: 0px 1px 3px 1px rgba(0, 0, 0, 0.15);\n",
       "      filter: drop-shadow(0px 1px 2px rgba(0, 0, 0, 0.3));\n",
       "      fill: #FFFFFF;\n",
       "    }\n",
       "  </style>\n",
       "\n",
       "      <script>\n",
       "        const buttonEl =\n",
       "          document.querySelector('#df-5ef07ee0-75cf-410f-87f0-44fad7367fa3 button.colab-df-convert');\n",
       "        buttonEl.style.display =\n",
       "          google.colab.kernel.accessAllowed ? 'block' : 'none';\n",
       "\n",
       "        async function convertToInteractive(key) {\n",
       "          const element = document.querySelector('#df-5ef07ee0-75cf-410f-87f0-44fad7367fa3');\n",
       "          const dataTable =\n",
       "            await google.colab.kernel.invokeFunction('convertToInteractive',\n",
       "                                                     [key], {});\n",
       "          if (!dataTable) return;\n",
       "\n",
       "          const docLinkHtml = 'Like what you see? Visit the ' +\n",
       "            '<a target=\"_blank\" href=https://colab.research.google.com/notebooks/data_table.ipynb>data table notebook</a>'\n",
       "            + ' to learn more about interactive tables.';\n",
       "          element.innerHTML = '';\n",
       "          dataTable['output_type'] = 'display_data';\n",
       "          await google.colab.output.renderOutput(dataTable, element);\n",
       "          const docLink = document.createElement('div');\n",
       "          docLink.innerHTML = docLinkHtml;\n",
       "          element.appendChild(docLink);\n",
       "        }\n",
       "      </script>\n",
       "    </div>\n",
       "  </div>\n",
       "  "
      ],
      "text/plain": [
       "   Month  Starting Balance   Repayment  Interest Paid  Principal Paid  \\\n",
       "0      1          34689.96  687.230218         202.93          484.30   \n",
       "1      2          34205.66  687.230218         200.10          487.13   \n",
       "2      3          33718.53  687.230218         197.25          489.98   \n",
       "3      4          33228.55  687.230218         194.38          492.85   \n",
       "4      5          32735.70  687.230218         191.50          495.73   \n",
       "5      6          32239.97  687.230218         188.60          498.63   \n",
       "6      7          31741.34  687.230218         185.68          501.55   \n",
       "7      8          31239.79  687.230218         182.75          504.48   \n",
       "8      9          30735.31  687.230218         179.80          507.43   \n",
       "9     10          30227.88  687.230218         176.83          510.40   \n",
       "\n",
       "   New Balance  \n",
       "0     34205.66  \n",
       "1     33718.53  \n",
       "2     33228.55  \n",
       "3     32735.70  \n",
       "4     32239.97  \n",
       "5     31741.34  \n",
       "6     31239.79  \n",
       "7     30735.31  \n",
       "8     30227.88  \n",
       "9     29717.48  "
      ]
     },
     "execution_count": 10,
     "metadata": {},
     "output_type": "execute_result"
    }
   ],
   "source": [
    "payment_table.head(10)\n"
   ]
  },
  {
   "cell_type": "code",
   "execution_count": 11,
   "metadata": {
    "colab": {
     "base_uri": "https://localhost:8080/"
    },
    "id": "rh7G7vhVD_ZR",
    "outputId": "103809e1-da28-4610-b613-7bb28f54dc9c"
   },
   "outputs": [
    {
     "data": {
      "text/plain": [
       "6543.51"
      ]
     },
     "execution_count": 11,
     "metadata": {},
     "output_type": "execute_result"
    }
   ],
   "source": [
    "np.round(payment_table['Interest Paid'].sum(), 2)\n"
   ]
  },
  {
   "cell_type": "code",
   "execution_count": 15,
   "metadata": {
    "id": "gA4bJ8gQFM0B"
   },
   "outputs": [],
   "source": [
    "P = 34689.96\n",
    "term = 60\n",
    "\n",
    "def generate_loan_table(P, term, interest_rate=0.0702):\n",
    "\n",
    "    def calc_emi(P, n, interest_rate):\n",
    "        r = interest_rate / 12\n",
    "        numerator = (r *((1 + r)**(n)) )\n",
    "        denominator = ((1 + r)**(n)) - 1\n",
    "        emi = P * (numerator / denominator)\n",
    "        emi = np.round(emi, 2)\n",
    "        return(emi)\n",
    "    \n",
    "    def calc_interest(P, emi, interest_rate):\n",
    "        i_paid = np.floor(((interest_rate/12)*P)*100)/100\n",
    "        p_paid = np.round(emi - i_paid, 2)\n",
    "        new_p = np.round(P - p_paid,2)\n",
    "        return(emi, i_paid, p_paid, new_p)\n",
    "\n",
    "    emi = calc_emi(P, term, interest_rate)\n",
    "    payment_list = []\n",
    "    \n",
    "    for n in range(1, term + 1):\n",
    "        emi,i_paid,p_paid, new_p = calc_interest(P, emi, interest_rate)\n",
    "        payment_list.append([n, P,emi, i_paid, p_paid, new_p])\n",
    "        P = np.round(new_p,2)\n",
    "   \n",
    "    payment_table = pd.DataFrame(payment_list, columns = ['Month',\n",
    "                                                       'Starting Balance',\n",
    "                                                       'Repayment',\n",
    "                                                       'Interest Paid',\n",
    "                                                       'Principal Paid',\n",
    "                                                       'New Balance'])\n",
    "    return(payment_table, np.round(payment_table['Interest Paid'].sum(), 2), emi)\n"
   ]
  },
  {
   "cell_type": "code",
   "execution_count": 16,
   "metadata": {
    "id": "IS_xaKXnEaVC"
   },
   "outputs": [],
   "source": [
    "o_table, o_paid, o_emi = generate_loan_table(P,term,interest_rate=0.0702)\n",
    "r_table, r_paid, r_emi = generate_loan_table(P,term,interest_rate=0.0359)"
   ]
  },
  {
   "cell_type": "code",
   "execution_count": 19,
   "metadata": {
    "colab": {
     "base_uri": "https://localhost:8080/",
     "height": 36
    },
    "id": "LNPrtgrWEgyT",
    "outputId": "3f1a23f2-ede3-4e6d-be16-07f661d77866"
   },
   "outputs": [
    {
     "data": {
      "application/vnd.google.colaboratory.intrinsic+json": {
       "type": "string"
      },
      "text/plain": [
       "'Refinancing could save: 3285.63'"
      ]
     },
     "execution_count": 19,
     "metadata": {},
     "output_type": "execute_result"
    }
   ],
   "source": [
    "\"Refinancing could save: {}\".format(6543.51 - 3257.88)\n"
   ]
  },
  {
   "cell_type": "code",
   "execution_count": 23,
   "metadata": {
    "colab": {
     "base_uri": "https://localhost:8080/"
    },
    "id": "6T6mmecpFQwI",
    "outputId": "b6753de9-bec9-48b1-e6f5-543c51955dd9"
   },
   "outputs": [
    {
     "data": {
      "text/plain": [
       "687.23"
      ]
     },
     "execution_count": 23,
     "metadata": {},
     "output_type": "execute_result"
    }
   ],
   "source": [
    "original_emi\n"
   ]
  },
  {
   "cell_type": "code",
   "execution_count": 22,
   "metadata": {
    "id": "F9TeO5eDHGRA"
   },
   "outputs": [],
   "source": [
    "original_table, original_paid, original_emi = generate_loan_table(P, term = 60, interest_rate = 0.0702)\n",
    "seventyTwo_table, seventyTwo_paid, seventyTwo_emi = generate_loan_table(P, term = 72, interest_rate = 0.0702)"
   ]
  },
  {
   "cell_type": "code",
   "execution_count": 26,
   "metadata": {
    "colab": {
     "base_uri": "https://localhost:8080/"
    },
    "id": "3dNsfu1BH8hr",
    "outputId": "d947246a-5645-445d-d57e-c2c32383363f"
   },
   "outputs": [
    {
     "data": {
      "text/plain": [
       "(687.23, 591.76)"
      ]
     },
     "execution_count": 26,
     "metadata": {},
     "output_type": "execute_result"
    }
   ],
   "source": [
    "original_emi, seventyTwo_emi\n"
   ]
  },
  {
   "cell_type": "code",
   "execution_count": null,
   "metadata": {
    "id": "H_XeN5YsIH0k"
   },
   "outputs": [],
   "source": []
  }
 ],
 "metadata": {
  "colab": {
   "provenance": []
  },
  "kernelspec": {
   "display_name": "Python 3 (ipykernel)",
   "language": "python",
   "name": "python3"
  },
  "language_info": {
   "codemirror_mode": {
    "name": "ipython",
    "version": 3
   },
   "file_extension": ".py",
   "mimetype": "text/x-python",
   "name": "python",
   "nbconvert_exporter": "python",
   "pygments_lexer": "ipython3",
   "version": "3.9.12"
  }
 },
 "nbformat": 4,
 "nbformat_minor": 1
}
