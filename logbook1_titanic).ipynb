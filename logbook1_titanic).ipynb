{
 "cells": [
  {
   "cell_type": "code",
   "execution_count": 1,
   "id": "666cad69",
   "metadata": {},
   "outputs": [],
   "source": [
    "import pandas as pd\n",
    "import numpy as np\n",
    "import matplotlib.pyplot as plt"
   ]
  },
  {
   "cell_type": "code",
   "execution_count": 2,
   "id": "f9bc33ac",
   "metadata": {},
   "outputs": [
    {
     "data": {
      "text/html": [
       "<div>\n",
       "<style scoped>\n",
       "    .dataframe tbody tr th:only-of-type {\n",
       "        vertical-align: middle;\n",
       "    }\n",
       "\n",
       "    .dataframe tbody tr th {\n",
       "        vertical-align: top;\n",
       "    }\n",
       "\n",
       "    .dataframe thead th {\n",
       "        text-align: right;\n",
       "    }\n",
       "</style>\n",
       "<table border=\"1\" class=\"dataframe\">\n",
       "  <thead>\n",
       "    <tr style=\"text-align: right;\">\n",
       "      <th></th>\n",
       "      <th>PassengerId</th>\n",
       "      <th>Survived</th>\n",
       "      <th>Pclass</th>\n",
       "      <th>Name</th>\n",
       "      <th>Sex</th>\n",
       "      <th>Age</th>\n",
       "      <th>SibSp</th>\n",
       "      <th>Parch</th>\n",
       "      <th>Ticket</th>\n",
       "      <th>Fare</th>\n",
       "      <th>Cabin</th>\n",
       "      <th>Embarked</th>\n",
       "    </tr>\n",
       "  </thead>\n",
       "  <tbody>\n",
       "    <tr>\n",
       "      <th>0</th>\n",
       "      <td>892</td>\n",
       "      <td>0</td>\n",
       "      <td>3</td>\n",
       "      <td>Kelly, Mr. James</td>\n",
       "      <td>male</td>\n",
       "      <td>34.5</td>\n",
       "      <td>0</td>\n",
       "      <td>0</td>\n",
       "      <td>330911</td>\n",
       "      <td>7.8292</td>\n",
       "      <td>NaN</td>\n",
       "      <td>Q</td>\n",
       "    </tr>\n",
       "    <tr>\n",
       "      <th>1</th>\n",
       "      <td>893</td>\n",
       "      <td>1</td>\n",
       "      <td>3</td>\n",
       "      <td>Wilkes, Mrs. James (Ellen Needs)</td>\n",
       "      <td>female</td>\n",
       "      <td>47.0</td>\n",
       "      <td>1</td>\n",
       "      <td>0</td>\n",
       "      <td>363272</td>\n",
       "      <td>7.0000</td>\n",
       "      <td>NaN</td>\n",
       "      <td>S</td>\n",
       "    </tr>\n",
       "    <tr>\n",
       "      <th>2</th>\n",
       "      <td>894</td>\n",
       "      <td>0</td>\n",
       "      <td>2</td>\n",
       "      <td>Myles, Mr. Thomas Francis</td>\n",
       "      <td>male</td>\n",
       "      <td>62.0</td>\n",
       "      <td>0</td>\n",
       "      <td>0</td>\n",
       "      <td>240276</td>\n",
       "      <td>9.6875</td>\n",
       "      <td>NaN</td>\n",
       "      <td>Q</td>\n",
       "    </tr>\n",
       "    <tr>\n",
       "      <th>3</th>\n",
       "      <td>895</td>\n",
       "      <td>0</td>\n",
       "      <td>3</td>\n",
       "      <td>Wirz, Mr. Albert</td>\n",
       "      <td>male</td>\n",
       "      <td>27.0</td>\n",
       "      <td>0</td>\n",
       "      <td>0</td>\n",
       "      <td>315154</td>\n",
       "      <td>8.6625</td>\n",
       "      <td>NaN</td>\n",
       "      <td>S</td>\n",
       "    </tr>\n",
       "    <tr>\n",
       "      <th>4</th>\n",
       "      <td>896</td>\n",
       "      <td>1</td>\n",
       "      <td>3</td>\n",
       "      <td>Hirvonen, Mrs. Alexander (Helga E Lindqvist)</td>\n",
       "      <td>female</td>\n",
       "      <td>22.0</td>\n",
       "      <td>1</td>\n",
       "      <td>1</td>\n",
       "      <td>3101298</td>\n",
       "      <td>12.2875</td>\n",
       "      <td>NaN</td>\n",
       "      <td>S</td>\n",
       "    </tr>\n",
       "    <tr>\n",
       "      <th>...</th>\n",
       "      <td>...</td>\n",
       "      <td>...</td>\n",
       "      <td>...</td>\n",
       "      <td>...</td>\n",
       "      <td>...</td>\n",
       "      <td>...</td>\n",
       "      <td>...</td>\n",
       "      <td>...</td>\n",
       "      <td>...</td>\n",
       "      <td>...</td>\n",
       "      <td>...</td>\n",
       "      <td>...</td>\n",
       "    </tr>\n",
       "    <tr>\n",
       "      <th>413</th>\n",
       "      <td>1305</td>\n",
       "      <td>0</td>\n",
       "      <td>3</td>\n",
       "      <td>Spector, Mr. Woolf</td>\n",
       "      <td>male</td>\n",
       "      <td>NaN</td>\n",
       "      <td>0</td>\n",
       "      <td>0</td>\n",
       "      <td>A.5. 3236</td>\n",
       "      <td>8.0500</td>\n",
       "      <td>NaN</td>\n",
       "      <td>S</td>\n",
       "    </tr>\n",
       "    <tr>\n",
       "      <th>414</th>\n",
       "      <td>1306</td>\n",
       "      <td>1</td>\n",
       "      <td>1</td>\n",
       "      <td>Oliva y Ocana, Dona. Fermina</td>\n",
       "      <td>female</td>\n",
       "      <td>39.0</td>\n",
       "      <td>0</td>\n",
       "      <td>0</td>\n",
       "      <td>PC 17758</td>\n",
       "      <td>108.9000</td>\n",
       "      <td>C105</td>\n",
       "      <td>C</td>\n",
       "    </tr>\n",
       "    <tr>\n",
       "      <th>415</th>\n",
       "      <td>1307</td>\n",
       "      <td>0</td>\n",
       "      <td>3</td>\n",
       "      <td>Saether, Mr. Simon Sivertsen</td>\n",
       "      <td>male</td>\n",
       "      <td>38.5</td>\n",
       "      <td>0</td>\n",
       "      <td>0</td>\n",
       "      <td>SOTON/O.Q. 3101262</td>\n",
       "      <td>7.2500</td>\n",
       "      <td>NaN</td>\n",
       "      <td>S</td>\n",
       "    </tr>\n",
       "    <tr>\n",
       "      <th>416</th>\n",
       "      <td>1308</td>\n",
       "      <td>0</td>\n",
       "      <td>3</td>\n",
       "      <td>Ware, Mr. Frederick</td>\n",
       "      <td>male</td>\n",
       "      <td>NaN</td>\n",
       "      <td>0</td>\n",
       "      <td>0</td>\n",
       "      <td>359309</td>\n",
       "      <td>8.0500</td>\n",
       "      <td>NaN</td>\n",
       "      <td>S</td>\n",
       "    </tr>\n",
       "    <tr>\n",
       "      <th>417</th>\n",
       "      <td>1309</td>\n",
       "      <td>0</td>\n",
       "      <td>3</td>\n",
       "      <td>Peter, Master. Michael J</td>\n",
       "      <td>male</td>\n",
       "      <td>NaN</td>\n",
       "      <td>1</td>\n",
       "      <td>1</td>\n",
       "      <td>2668</td>\n",
       "      <td>22.3583</td>\n",
       "      <td>NaN</td>\n",
       "      <td>C</td>\n",
       "    </tr>\n",
       "  </tbody>\n",
       "</table>\n",
       "<p>418 rows × 12 columns</p>\n",
       "</div>"
      ],
      "text/plain": [
       "     PassengerId  Survived  Pclass  \\\n",
       "0            892         0       3   \n",
       "1            893         1       3   \n",
       "2            894         0       2   \n",
       "3            895         0       3   \n",
       "4            896         1       3   \n",
       "..           ...       ...     ...   \n",
       "413         1305         0       3   \n",
       "414         1306         1       1   \n",
       "415         1307         0       3   \n",
       "416         1308         0       3   \n",
       "417         1309         0       3   \n",
       "\n",
       "                                             Name     Sex   Age  SibSp  Parch  \\\n",
       "0                                Kelly, Mr. James    male  34.5      0      0   \n",
       "1                Wilkes, Mrs. James (Ellen Needs)  female  47.0      1      0   \n",
       "2                       Myles, Mr. Thomas Francis    male  62.0      0      0   \n",
       "3                                Wirz, Mr. Albert    male  27.0      0      0   \n",
       "4    Hirvonen, Mrs. Alexander (Helga E Lindqvist)  female  22.0      1      1   \n",
       "..                                            ...     ...   ...    ...    ...   \n",
       "413                            Spector, Mr. Woolf    male   NaN      0      0   \n",
       "414                  Oliva y Ocana, Dona. Fermina  female  39.0      0      0   \n",
       "415                  Saether, Mr. Simon Sivertsen    male  38.5      0      0   \n",
       "416                           Ware, Mr. Frederick    male   NaN      0      0   \n",
       "417                      Peter, Master. Michael J    male   NaN      1      1   \n",
       "\n",
       "                 Ticket      Fare Cabin Embarked  \n",
       "0                330911    7.8292   NaN        Q  \n",
       "1                363272    7.0000   NaN        S  \n",
       "2                240276    9.6875   NaN        Q  \n",
       "3                315154    8.6625   NaN        S  \n",
       "4               3101298   12.2875   NaN        S  \n",
       "..                  ...       ...   ...      ...  \n",
       "413           A.5. 3236    8.0500   NaN        S  \n",
       "414            PC 17758  108.9000  C105        C  \n",
       "415  SOTON/O.Q. 3101262    7.2500   NaN        S  \n",
       "416              359309    8.0500   NaN        S  \n",
       "417                2668   22.3583   NaN        C  \n",
       "\n",
       "[418 rows x 12 columns]"
      ]
     },
     "execution_count": 2,
     "metadata": {},
     "output_type": "execute_result"
    }
   ],
   "source": [
    "tit= pd.read_csv('tested.csv')\n",
    "tit"
   ]
  },
  {
   "cell_type": "code",
   "execution_count": 3,
   "id": "5c86df17",
   "metadata": {},
   "outputs": [
    {
     "data": {
      "text/plain": [
       "418"
      ]
     },
     "execution_count": 3,
     "metadata": {},
     "output_type": "execute_result"
    }
   ],
   "source": [
    "#find the totaL number of records\n",
    "tit.shape[0]"
   ]
  },
  {
   "cell_type": "code",
   "execution_count": 4,
   "id": "6379a15f",
   "metadata": {},
   "outputs": [
    {
     "data": {
      "text/plain": [
       "PassengerId      0\n",
       "Survived         0\n",
       "Pclass           0\n",
       "Name             0\n",
       "Sex              0\n",
       "Age             86\n",
       "SibSp            0\n",
       "Parch            0\n",
       "Ticket           0\n",
       "Fare             1\n",
       "Cabin          327\n",
       "Embarked         0\n",
       "dtype: int64"
      ]
     },
     "execution_count": 4,
     "metadata": {},
     "output_type": "execute_result"
    }
   ],
   "source": [
    "# finding total number of missing values\n",
    "tit.isnull().sum()"
   ]
  },
  {
   "cell_type": "code",
   "execution_count": 5,
   "id": "4c43cd1d",
   "metadata": {},
   "outputs": [
    {
     "data": {
      "text/plain": [
       "1    152\n",
       "Name: Survived, dtype: int64"
      ]
     },
     "execution_count": 5,
     "metadata": {},
     "output_type": "execute_result"
    }
   ],
   "source": [
    "#finding the number of female survivors\n",
    "female_data = tit[tit['Sex']== 'female']\n",
    "female_data['Survived'].value_counts()\n",
    "\n",
    "# As per the data all female passengers survived"
   ]
  },
  {
   "cell_type": "code",
   "execution_count": 6,
   "id": "49d121b0",
   "metadata": {},
   "outputs": [
    {
     "data": {
      "text/plain": [
       "0    266\n",
       "Name: Survived, dtype: int64"
      ]
     },
     "execution_count": 6,
     "metadata": {},
     "output_type": "execute_result"
    }
   ],
   "source": [
    "#finding the number of male survivors\n",
    "male_data = tit[tit['Sex']== 'male']\n",
    "male_data['Survived'].value_counts()\n",
    "\n",
    "# As per the data none of the male passengers survived"
   ]
  },
  {
   "cell_type": "code",
   "execution_count": 7,
   "id": "f9d975f5",
   "metadata": {},
   "outputs": [
    {
     "data": {
      "text/plain": [
       "76.0"
      ]
     },
     "execution_count": 7,
     "metadata": {},
     "output_type": "execute_result"
    }
   ],
   "source": [
    "tit.Age.max()"
   ]
  },
  {
   "cell_type": "code",
   "execution_count": 8,
   "id": "3aff88c4",
   "metadata": {},
   "outputs": [
    {
     "data": {
      "text/plain": [
       "0.17"
      ]
     },
     "execution_count": 8,
     "metadata": {},
     "output_type": "execute_result"
    }
   ],
   "source": [
    "tit.Age.min()"
   ]
  },
  {
   "cell_type": "code",
   "execution_count": 9,
   "id": "b4455c69",
   "metadata": {},
   "outputs": [
    {
     "data": {
      "text/plain": [
       "1    152\n",
       "Name: Survived, dtype: int64"
      ]
     },
     "execution_count": 9,
     "metadata": {},
     "output_type": "execute_result"
    }
   ],
   "source": [
    "# number of passengers survived\n",
    "survived= tit[tit['Survived']==1].Survived.value_counts()\n",
    "survived"
   ]
  },
  {
   "cell_type": "code",
   "execution_count": 10,
   "id": "e34e56ba",
   "metadata": {},
   "outputs": [
    {
     "data": {
      "text/plain": [
       "0    266\n",
       "Name: Survived, dtype: int64"
      ]
     },
     "execution_count": 10,
     "metadata": {},
     "output_type": "execute_result"
    }
   ],
   "source": [
    "# number of passengers perished\n",
    "perished= tit[tit['Survived']==0].Survived.value_counts()\n",
    "perished"
   ]
  },
  {
   "cell_type": "code",
   "execution_count": 11,
   "id": "c49ce093",
   "metadata": {},
   "outputs": [],
   "source": [
    "#number of passengers survived per class\n",
    "P_class = tit[tit['Survived']==1]['Pclass'].value_counts()"
   ]
  },
  {
   "cell_type": "code",
   "execution_count": 12,
   "id": "9c094f7a",
   "metadata": {},
   "outputs": [
    {
     "data": {
      "text/plain": [
       "array(['110469', '110489', '110813', '111163', '112051', '112058',\n",
       "       '112377', '112378', '112378', '112901', '113038', '113044',\n",
       "       '113054', '113059', '113503', '113503', '113503', '113503',\n",
       "       '113509', '113773', '113778', '113780', '113781', '113781',\n",
       "       '113790', '113791', '113795', '113796', '113801', '11753', '11765',\n",
       "       '11767', '11769', '11770', '11778', '11778', '11813', '1222',\n",
       "       '12749', '12749', '13050', '13050', '13236', '13236', '13508',\n",
       "       '13508', '13567', '13695', '13695', '13905', '1601', '16966',\n",
       "       '16966', '16966', '17463', '17464', '17475', '17765', '17770',\n",
       "       '19877', '19924', '19928', '19950', '19950', '2003', '211535',\n",
       "       '21228', '21228', '21332', '220844', '220845', '220845', '220845',\n",
       "       '226875', '228414', '230136', '230136', '233478', '233734',\n",
       "       '235509', '236853', '236854', '237216', '237249', '237393',\n",
       "       '237670', '237734', '237735', '237789', '239059', '240261',\n",
       "       '240276', '24065', '24065', '24160', '242963', '244346', '244358',\n",
       "       '244360', '244368', '248659', '248726', '248734', '248738',\n",
       "       '248744', '248746', '250650', '250651', '2543', '2621', '2622',\n",
       "       '2625', '26360', '2650', '2650', '2652', '2653', '2654', '2655',\n",
       "       '2656', '2657', '2658', '2660', '2660', '2661', '2662', '2662',\n",
       "       '2668', '2670', '26707', '2673', '2675', '2676', '2678', '2679',\n",
       "       '2680', '2681', '2682', '2684', '2688', '2689', '2692', '2696',\n",
       "       '2698', '28004', '28034', '28133', '28220', '28220', '28221',\n",
       "       '28404', '28664', '28666', '29103', '29103', '29105', '29107',\n",
       "       '2926', '29750', '3101266', '3101295', '3101297', '3101298',\n",
       "       '315083', '315085', '315087', '315091', '315092', '315095',\n",
       "       '315152', '315153', '315153', '315154', '32302', '329944',\n",
       "       '330844', '330910', '330911', '330920', '330924', '330963',\n",
       "       '330968', '330971', '330972', '334914', '334915', '335432',\n",
       "       '33638', '33638', '3410', '342441', '342684', '342712', '343271',\n",
       "       '345498', '345501', '345572', '345763', '345768', '345771',\n",
       "       '345775', '3470', '347065', '347066', '347070', '347072', '347072',\n",
       "       '347075', '347077', '347077', '347077', '347079', '347080',\n",
       "       '347086', '347090', '347091', '347465', '347467', '347469',\n",
       "       '347471', '348122', '348125', '349202', '349211', '349220',\n",
       "       '349226', '349229', '349230', '349232', '349235', '349238',\n",
       "       '349250', '349255', '349256', '349909', '349910', '349911',\n",
       "       '350026', '350033', '350045', '350053', '350054', '350403',\n",
       "       '350405', '350405', '350408', '350409', '350410', '350416',\n",
       "       '359306', '359309', '363272', '363611', '364498', '364856',\n",
       "       '364858', '364859', '365235', '365237', '36568', '366713',\n",
       "       '367226', '367227', '368364', '368402', '368573', '368702',\n",
       "       '368783', '36928', '36928', '3701', '370129', '370368', '370371',\n",
       "       '370374', '371109', '371362', '376563', '376566', '382650',\n",
       "       '382652', '382653', '383123', '383162', '386525', '392091',\n",
       "       '392095', '4133', '65305', '680', '694', '7266', '7538', '7548',\n",
       "       '7935', '9232', 'A. 2. 39186', 'A./5. 3338', 'A.5. 3236',\n",
       "       'A/4 31416', 'A/4 48871', 'A/4 48873', 'A/5 1478', 'A/5 21175',\n",
       "       'A/5. 3337', 'A/5. 851', 'A/5. 851', 'AQ/3. 30631', 'AQ/4 3130',\n",
       "       'C 17368', 'C 4001', 'C 4001', 'C.A. 15185', 'C.A. 2315',\n",
       "       'C.A. 2315', 'C.A. 2673', 'C.A. 30769', 'C.A. 31029', 'C.A. 31029',\n",
       "       'C.A. 31029', 'C.A. 31030', 'C.A. 33112', 'C.A. 33112',\n",
       "       'C.A. 33595', 'C.A. 34050', 'C.A. 34644', 'C.A. 34651',\n",
       "       'C.A. 37671', 'C.A. 42795', 'C.A. 49867', 'C.A. 6212', 'CA 2144',\n",
       "       'CA 2144', 'CA 31352', 'CA 31352', 'CA. 2343', 'CA. 2343',\n",
       "       'CA. 2343', 'CA. 2343', 'F.C. 12750', 'F.C. 12998', 'F.C.C. 13528',\n",
       "       'F.C.C. 13534', 'F.C.C. 13534', 'F.C.C. 13540', 'LP 1588',\n",
       "       'PC 17483', 'PC 17483', 'PC 17483', 'PC 17531', 'PC 17558',\n",
       "       'PC 17562', 'PC 17569', 'PC 17580', 'PC 17585', 'PC 17591',\n",
       "       'PC 17592', 'PC 17594', 'PC 17597', 'PC 17598', 'PC 17599',\n",
       "       'PC 17603', 'PC 17606', 'PC 17607', 'PC 17608', 'PC 17608',\n",
       "       'PC 17608', 'PC 17608', 'PC 17608', 'PC 17613', 'PC 17755',\n",
       "       'PC 17756', 'PC 17756', 'PC 17757', 'PC 17758', 'PC 17759',\n",
       "       'PC 17760', 'PC 17761', 'PP 9549', 'S.C./PARIS 2079',\n",
       "       'S.O./P.P. 2', 'S.O./P.P. 2', 'S.O./P.P. 251', 'S.O./P.P. 752',\n",
       "       'S.O.C. 14879', 'S.O.C. 14879', 'SC 14888', 'SC/A.3 2861',\n",
       "       'SC/A4 23568', 'SC/AH 29037', 'SC/AH 3085', 'SC/PARIS 2147',\n",
       "       'SC/PARIS 2148', 'SC/PARIS 2159', 'SC/PARIS 2166', 'SC/PARIS 2167',\n",
       "       'SC/PARIS 2168', 'SC/Paris 2123', 'SOTON/O.Q. 3101262',\n",
       "       'SOTON/O.Q. 3101263', 'SOTON/O.Q. 3101308', 'SOTON/O.Q. 3101309',\n",
       "       'SOTON/O.Q. 3101314', 'SOTON/O.Q. 3101315', 'SOTON/O.Q. 3101315',\n",
       "       'SOTON/O.Q. 3101315', 'SOTON/O2 3101284', 'SOTON/OQ 392083',\n",
       "       'STON/O 2. 3101268', 'STON/O 2. 3101291', 'STON/O2. 3101270',\n",
       "       'STON/OQ. 369943', 'W./C. 14260', 'W./C. 14266', 'W./C. 6607',\n",
       "       'W./C. 6607', 'W./C. 6608', 'W.E.P. 5734'], dtype=object)"
      ]
     },
     "execution_count": 12,
     "metadata": {},
     "output_type": "execute_result"
    }
   ],
   "source": [
    "#converting a co\n",
    "tit.iloc[:, 8].sort_values().values"
   ]
  },
  {
   "cell_type": "code",
   "execution_count": 13,
   "id": "e65bc93c",
   "metadata": {},
   "outputs": [],
   "source": [
    "new_cabin= tit.dropna().Cabin.values"
   ]
  },
  {
   "cell_type": "code",
   "execution_count": 14,
   "id": "10da4206",
   "metadata": {},
   "outputs": [
    {
     "data": {
      "text/plain": [
       "array(['B45', 'E31', 'B57 B59 B63 B66', 'B36', 'A21', 'C78', 'D19', 'A9',\n",
       "       'D15', 'C31', 'C23 C25 C27', 'F G63', 'B61', 'B57 B59 B63 B66',\n",
       "       'C53', 'C23 C25 C27', 'D43', 'C130', 'C132', 'C101', 'C55 C57',\n",
       "       'B71', 'C46', 'C116', 'F', 'A29', 'C55 C57', 'G6', 'C6', 'C28',\n",
       "       'C51', 'B57 B59 B63 B66', 'C54', 'C97', 'D22', 'B10', 'C116', 'F4',\n",
       "       'E45', 'E52', 'D30', 'B58 B60', 'E34', 'C62 C64', 'A11', 'B11',\n",
       "       'C80', 'F33', 'C85', 'D37', 'C86', 'E34', 'D21', 'C89', 'C6',\n",
       "       'C89', 'B45', 'A34', 'B26', 'C22 C26', 'B69', 'C32', 'B78',\n",
       "       'F E57', 'F2', 'F4', 'A18', 'C106', 'B51 B53 B55', 'D10 D12',\n",
       "       'E60', 'C101', 'E50', 'E39 E41', 'B52 B54 B56', 'A34', 'C39',\n",
       "       'B24', 'D28', 'C31', 'B41', 'C7', 'D40', 'D38', 'C80', 'C78',\n",
       "       'C105'], dtype=object)"
      ]
     },
     "execution_count": 14,
     "metadata": {},
     "output_type": "execute_result"
    }
   ],
   "source": [
    "new_cabin"
   ]
  },
  {
   "cell_type": "code",
   "execution_count": 17,
   "id": "c374eb32",
   "metadata": {},
   "outputs": [
    {
     "data": {
      "image/png": "[encoded data removed]",
      "text/plain": [
       "<Figure size 432x288 with 1 Axes>"
      ]
     },
     "metadata": {
      "needs_background": "light"
     },
     "output_type": "display_data"
    }
   ],
   "source": [
    "import seaborn as sns\n",
    "ax=sns.countplot(x ='Sex', data = tit)\n",
    "plt.show()"
   ]
  },
  {
   "cell_type": "code",
   "execution_count": 18,
   "id": "a80c5a12",
   "metadata": {},
   "outputs": [
    {
     "data": {
      "text/html": [
       "<div>\n",
       "<style scoped>\n",
       "    .dataframe tbody tr th:only-of-type {\n",
       "        vertical-align: middle;\n",
       "    }\n",
       "\n",
       "    .dataframe tbody tr th {\n",
       "        vertical-align: top;\n",
       "    }\n",
       "\n",
       "    .dataframe thead th {\n",
       "        text-align: right;\n",
       "    }\n",
       "</style>\n",
       "<table border=\"1\" class=\"dataframe\">\n",
       "  <thead>\n",
       "    <tr style=\"text-align: right;\">\n",
       "      <th></th>\n",
       "      <th>PassengerId</th>\n",
       "      <th>Survived</th>\n",
       "      <th>Pclass</th>\n",
       "      <th>Age</th>\n",
       "      <th>SibSp</th>\n",
       "      <th>Parch</th>\n",
       "      <th>Fare</th>\n",
       "    </tr>\n",
       "  </thead>\n",
       "  <tbody>\n",
       "    <tr>\n",
       "      <th>PassengerId</th>\n",
       "      <td>1.000000</td>\n",
       "      <td>-0.023245</td>\n",
       "      <td>-0.026751</td>\n",
       "      <td>-0.034102</td>\n",
       "      <td>0.003818</td>\n",
       "      <td>0.043080</td>\n",
       "      <td>0.008211</td>\n",
       "    </tr>\n",
       "    <tr>\n",
       "      <th>Survived</th>\n",
       "      <td>-0.023245</td>\n",
       "      <td>1.000000</td>\n",
       "      <td>-0.108615</td>\n",
       "      <td>-0.000013</td>\n",
       "      <td>0.099943</td>\n",
       "      <td>0.159120</td>\n",
       "      <td>0.191514</td>\n",
       "    </tr>\n",
       "    <tr>\n",
       "      <th>Pclass</th>\n",
       "      <td>-0.026751</td>\n",
       "      <td>-0.108615</td>\n",
       "      <td>1.000000</td>\n",
       "      <td>-0.492143</td>\n",
       "      <td>0.001087</td>\n",
       "      <td>0.018721</td>\n",
       "      <td>-0.577147</td>\n",
       "    </tr>\n",
       "    <tr>\n",
       "      <th>Age</th>\n",
       "      <td>-0.034102</td>\n",
       "      <td>-0.000013</td>\n",
       "      <td>-0.492143</td>\n",
       "      <td>1.000000</td>\n",
       "      <td>-0.091587</td>\n",
       "      <td>-0.061249</td>\n",
       "      <td>0.337932</td>\n",
       "    </tr>\n",
       "    <tr>\n",
       "      <th>SibSp</th>\n",
       "      <td>0.003818</td>\n",
       "      <td>0.099943</td>\n",
       "      <td>0.001087</td>\n",
       "      <td>-0.091587</td>\n",
       "      <td>1.000000</td>\n",
       "      <td>0.306895</td>\n",
       "      <td>0.171539</td>\n",
       "    </tr>\n",
       "    <tr>\n",
       "      <th>Parch</th>\n",
       "      <td>0.043080</td>\n",
       "      <td>0.159120</td>\n",
       "      <td>0.018721</td>\n",
       "      <td>-0.061249</td>\n",
       "      <td>0.306895</td>\n",
       "      <td>1.000000</td>\n",
       "      <td>0.230046</td>\n",
       "    </tr>\n",
       "    <tr>\n",
       "      <th>Fare</th>\n",
       "      <td>0.008211</td>\n",
       "      <td>0.191514</td>\n",
       "      <td>-0.577147</td>\n",
       "      <td>0.337932</td>\n",
       "      <td>0.171539</td>\n",
       "      <td>0.230046</td>\n",
       "      <td>1.000000</td>\n",
       "    </tr>\n",
       "  </tbody>\n",
       "</table>\n",
       "</div>"
      ],
      "text/plain": [
       "             PassengerId  Survived    Pclass       Age     SibSp     Parch  \\\n",
       "PassengerId     1.000000 -0.023245 -0.026751 -0.034102  0.003818  0.043080   \n",
       "Survived       -0.023245  1.000000 -0.108615 -0.000013  0.099943  0.159120   \n",
       "Pclass         -0.026751 -0.108615  1.000000 -0.492143  0.001087  0.018721   \n",
       "Age            -0.034102 -0.000013 -0.492143  1.000000 -0.091587 -0.061249   \n",
       "SibSp           0.003818  0.099943  0.001087 -0.091587  1.000000  0.306895   \n",
       "Parch           0.043080  0.159120  0.018721 -0.061249  0.306895  1.000000   \n",
       "Fare            0.008211  0.191514 -0.577147  0.337932  0.171539  0.230046   \n",
       "\n",
       "                 Fare  \n",
       "PassengerId  0.008211  \n",
       "Survived     0.191514  \n",
       "Pclass      -0.577147  \n",
       "Age          0.337932  \n",
       "SibSp        0.171539  \n",
       "Parch        0.230046  \n",
       "Fare         1.000000  "
      ]
     },
     "execution_count": 18,
     "metadata": {},
     "output_type": "execute_result"
    }
   ],
   "source": [
    "tit.corr()\n"
   ]
  },
  {
   "cell_type": "code",
   "execution_count": null,
   "id": "b7a9f021",
   "metadata": {},
   "outputs": [],
   "source": []
  }
 ],
 "metadata": {
  "kernelspec": {
   "display_name": "Python 3 (ipykernel)",
   "language": "python",
   "name": "python3"
  },
  "language_info": {
   "codemirror_mode": {
    "name": "ipython",
    "version": 3
   },
   "file_extension": ".py",
   "mimetype": "text/x-python",
   "name": "python",
   "nbconvert_exporter": "python",
   "pygments_lexer": "ipython3",
   "version": "3.9.12"
  }
 },
 "nbformat": 4,
 "nbformat_minor": 5
}
